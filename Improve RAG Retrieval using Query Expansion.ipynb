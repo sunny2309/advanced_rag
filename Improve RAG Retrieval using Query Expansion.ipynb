{
 "cells": [
  {
   "cell_type": "markdown",
   "id": "984e1f13",
   "metadata": {},
   "source": [
    "# Query Expansion - Improve RAG Retrieval\n",
    "\n",
    "### Table of Contents\n",
    "\n",
    "1. **Load Data**\n",
    "    * Split Data into Chunks\n",
    "2. **Create Vector Store & Load Text Chunks**\n",
    "    * Define Vector Store & Collection\n",
    "    * Add Text Chunks to Collection\n",
    "    * Visualize Dataset\n",
    "3. **Query Vector Store (No RAG Trick)**\n",
    "    * Visualize Original Query & Retrieved Docs\n",
    "4. **Query Expansion using Generated Answer**\n",
    "    * Visualize Original Query, Modified Query & Retrieved Docs\n",
    "5. **Query Expansion using Generated Queries**\n",
    "    * Visualize Original Query, Generated Queries & Retrieved Docs\n",
    "6. **RAG Performance**\n",
    "\n",
    "### Installation\n",
    "\n",
    "* **pip install groq**\n",
    "* **pip install langchain**\n",
    "* **pip install chromadb**"
   ]
  },
  {
   "cell_type": "code",
   "execution_count": 1,
   "id": "5a379e79",
   "metadata": {},
   "outputs": [],
   "source": [
    "import dotenv\n",
    "import os\n",
    "\n",
    "dotenv.load_dotenv(dotenv.find_dotenv())\n",
    "\n",
    "groq_api_key = os.environ[\"GROQ_API_KEY\"]"
   ]
  },
  {
   "cell_type": "code",
   "execution_count": 2,
   "id": "415982ee",
   "metadata": {
    "scrolled": true
   },
   "outputs": [
    {
     "name": "stdout",
     "output_type": "stream",
     "text": [
      "0.5.4\n"
     ]
    }
   ],
   "source": [
    "import chromadb\n",
    "\n",
    "print(chromadb.__version__)"
   ]
  },
  {
   "cell_type": "markdown",
   "id": "7618abc7",
   "metadata": {},
   "source": [
    "* Login to **https://console.groq.com** and create API Key.\n",
    "\n",
    "<img src=\"GroqModels.jpg\" width=650/>"
   ]
  },
  {
   "cell_type": "code",
   "execution_count": 3,
   "id": "bb225c5e",
   "metadata": {},
   "outputs": [],
   "source": [
    "from groq import Groq\n",
    "\n",
    "client = Groq(\n",
    "    api_key=groq_api_key,\n",
    ")"
   ]
  },
  {
   "cell_type": "markdown",
   "id": "ba496d8f",
   "metadata": {},
   "source": [
    "## 1. Load Data\n",
    "\n",
    "* **Form 10-K** is a comprehensive report filed annually by a publicly traded company about its financial performance and is required by the **U.S. Securities and Exchange Commission (SEC)**.\n",
    "\n"
   ]
  },
  {
   "cell_type": "code",
   "execution_count": 4,
   "id": "3dc3c697",
   "metadata": {},
   "outputs": [
    {
     "data": {
      "text/plain": [
       "80"
      ]
     },
     "execution_count": 4,
     "metadata": {},
     "output_type": "execute_result"
    }
   ],
   "source": [
    "from pypdf import PdfReader\n",
    "\n",
    "reader = PdfReader(\"Apple-10-k-2023.pdf\")\n",
    "\n",
    "pages = [page.extract_text().strip() for page in reader.pages]\n",
    "pages = [page for page in pages if page]\n",
    "\n",
    "len(pages)"
   ]
  },
  {
   "cell_type": "code",
   "execution_count": 5,
   "id": "1ae07829",
   "metadata": {
    "scrolled": true
   },
   "outputs": [
    {
     "name": "stdout",
     "output_type": "stream",
     "text": [
      "UNITED STATES\n",
      "SECURITIES AND EXCHANGE COMMISSION\n",
      "Washington, D.C. 20549\n",
      "FORM 10-K\n",
      "(Mark One)\n",
      "☒    ANNUAL REPORT PURSUANT TO SECTION 13 OR 15(d) OF THE SECURITIES EXCHANGE ACT OF 1934\n",
      "For the fiscal year ended September 30, 2023\n",
      "or\n",
      "☐    TRANSITION REPORT PURSUANT TO SECTION 13 OR 15(d) OF THE SECURITIES EXCHANGE ACT OF 1934\n",
      "For the transition period from               to              .\n",
      "Commission File Number: 001-36743\n",
      "Apple Inc.\n",
      "(Exact name of Registrant as specified in its charter)\n",
      "California 94-2404110\n",
      "(State or other jurisdiction\n",
      "of incorporation or organization)(I.R.S. Employer Identification No.)\n",
      "One Apple Park Way\n",
      "Cupertino , California 95014\n",
      "(Address of principal executive offices) (Zip Code)\n",
      "(408) 996-1010\n",
      "(Registrant’s telephone number, including area code)\n",
      "Securities registered pursuant to Section 12(b) of the Act:\n",
      "Title of each classTrading \n",
      "symbol(s) Name of each exchange on which registered\n",
      "Common Stock, $0.00001  par value per share AAPL The Nasdaq Stock Market LLC\n",
      "1.375% Notes due 2024 — The Nasdaq Stock Market LLC\n",
      "0.000% Notes due 2025 — The Nasdaq Stock Market LLC\n",
      "0.875% Notes due 2025 — The Nasdaq Stock Market LLC\n",
      "1.625% Notes due 2026 — The Nasdaq Stock Market LLC\n",
      "2.000% Notes due 2027 — The Nasdaq Stock Market LLC\n",
      "1.375% Notes due 2029 — The Nasdaq Stock Market LLC\n",
      "3.050% Notes due 2029 — The Nasdaq Stock Market LLC\n",
      "0.500% Notes due 2031 — The Nasdaq Stock Market LLC\n",
      "3.600% Notes due 2042 — The Nasdaq Stock Market LLC\n",
      "Securities registered pursuant to Section 12(g) of the Act:  None\n",
      "Indicate by check mark if the Registrant is a well-known seasoned issuer, as defined in Rule 405 of the Securities Act.\n",
      "Yes  ☒     No  ☐\n",
      "Indicate by check mark if the Registrant is not required to file reports pursuant to Section 13 or Section 15(d) of the Act.\n",
      "Yes  ☐     No  ☒\n"
     ]
    }
   ],
   "source": [
    "print(pages[0])"
   ]
  },
  {
   "cell_type": "markdown",
   "id": "79b548f8",
   "metadata": {},
   "source": [
    "### 1.1 Split Data into Chunks"
   ]
  },
  {
   "cell_type": "code",
   "execution_count": 6,
   "id": "9ac30189",
   "metadata": {},
   "outputs": [
    {
     "name": "stdout",
     "output_type": "stream",
     "text": [
      "Total chunks: 323\n"
     ]
    }
   ],
   "source": [
    "from langchain.text_splitter import RecursiveCharacterTextSplitter, SentenceTransformersTokenTextSplitter\n",
    "\n",
    "text_splitter  = RecursiveCharacterTextSplitter(\n",
    "    separators=[\"\\n\\n\", \"\\n\", \". \", \" \", \"\"],\n",
    "    chunk_size=1000,\n",
    "    chunk_overlap=25        \n",
    ")\n",
    "\n",
    "character_split_texts = text_splitter.split_text('\\n\\n'.join(pages))\n",
    "\n",
    "print(f\"Total chunks: {len(character_split_texts)}\")"
   ]
  },
  {
   "cell_type": "code",
   "execution_count": 7,
   "id": "5f13c12f",
   "metadata": {
    "scrolled": true
   },
   "outputs": [
    {
     "name": "stdout",
     "output_type": "stream",
     "text": [
      "intellectual property and acquisition of third-party businesses and technology.\n",
      "Intellectual Property\n",
      "The Company currently holds a broad collection of intellectual property rights relating to certain aspects of its hardware devices, \n",
      "accessories, software and services. This includes patents, designs, copyrights, trademarks and other forms of intellectual \n",
      "property rights in the U.S. and various foreign countries. Although the Company believes the ownership of such intellectual \n",
      "property rights is an important factor in differentiating its business and that its success does depend in part on such ownership, \n",
      "the Company relies primarily on the innovative skills, technical competence and marketing abilities of its personnel.\n",
      "The Company regularly files patent, design, copyright and trademark applications to protect innovations arising from its research, \n",
      "development, design and marketing, and is currently pursuing thousands of applications around the world. Over time, the\n"
     ]
    }
   ],
   "source": [
    "print((character_split_texts[20]))"
   ]
  },
  {
   "cell_type": "markdown",
   "id": "0fd658cc",
   "metadata": {},
   "source": [
    "## 2. Create Vector Store & Load Text Chunks"
   ]
  },
  {
   "cell_type": "markdown",
   "id": "01fb0323",
   "metadata": {},
   "source": [
    "### 2.1 Define Vector Store & Collection\n",
    "\n",
    "* https://www.sbert.net/docs/sentence_transformer/pretrained_models.html#original-models\n",
    "\n",
    "Check out our **[ChromaDB Tutorial](https://www.youtube.com/watch?v=-ElKVZRNcU8&t=673s)** if you are new to it."
   ]
  },
  {
   "cell_type": "code",
   "execution_count": 8,
   "id": "0c0a21b3",
   "metadata": {},
   "outputs": [],
   "source": [
    "from chromadb.utils.embedding_functions import SentenceTransformerEmbeddingFunction\n",
    "\n",
    "chroma_client = chromadb.PersistentClient(path=\"./apple_10_k\")\n",
    "distilroberta = SentenceTransformerEmbeddingFunction(model_name=\"all-distilroberta-v1\") ## 768 Dimension embeddings vector.\n",
    "\n",
    "collection = chroma_client.create_collection(name=\"apple_annual_report_2023\", \n",
    "                                             metadata={\"title\": \"Apple 10-k Report (2023)\", \n",
    "                                                       \"description\": \"This store contains embeddings of Apple Annual Report filed to SEC for 2023.\"},\n",
    "                                             embedding_function=distilroberta,\n",
    "                                             get_or_create=True)"
   ]
  },
  {
   "cell_type": "markdown",
   "id": "a6dba95e",
   "metadata": {},
   "source": [
    "### 2.2 Add Text Chunks to Vector Store\n",
    "\n",
    "* Do not rerun this step if you have already ran it earlier. It'll add same texts again in persisted collection."
   ]
  },
  {
   "cell_type": "code",
   "execution_count": 16,
   "id": "5cb0e9ad",
   "metadata": {
    "scrolled": true
   },
   "outputs": [
    {
     "data": {
      "text/plain": [
       "323"
      ]
     },
     "execution_count": 16,
     "metadata": {},
     "output_type": "execute_result"
    }
   ],
   "source": [
    "collection.add(\n",
    "    documents=character_split_texts,\n",
    "    ids=[f\"Split-{idx}\" for idx in range(len(character_split_texts))]\n",
    ")"
   ]
  },
  {
   "cell_type": "code",
   "execution_count": 9,
   "id": "95f4bd06",
   "metadata": {},
   "outputs": [
    {
     "data": {
      "text/plain": [
       "323"
      ]
     },
     "execution_count": 9,
     "metadata": {},
     "output_type": "execute_result"
    }
   ],
   "source": [
    "collection.count()"
   ]
  },
  {
   "cell_type": "markdown",
   "id": "8c6518e0",
   "metadata": {},
   "source": [
    "### 2.3 Visualize Text Chunks"
   ]
  },
  {
   "cell_type": "code",
   "execution_count": 10,
   "id": "a5518953",
   "metadata": {},
   "outputs": [
    {
     "name": "stderr",
     "output_type": "stream",
     "text": [
      "2024-08-15 01:49:49.207593: I tensorflow/tsl/cuda/cudart_stub.cc:28] Could not find cuda drivers on your machine, GPU will not be used.\n",
      "2024-08-15 01:49:49.239726: I tensorflow/core/platform/cpu_feature_guard.cc:182] This TensorFlow binary is optimized to use available CPU instructions in performance-critical operations.\n",
      "To enable the following instructions: AVX2 FMA, in other operations, rebuild TensorFlow with the appropriate compiler flags.\n",
      "2024-08-15 01:49:49.994755: W tensorflow/compiler/tf2tensorrt/utils/py_utils.cc:38] TF-TRT Warning: Could not find TensorRT\n",
      "100%|█████████████████████████████████████████████████████████████████████████████████| 323/323 [02:40<00:00,  2.01it/s]\n"
     ]
    }
   ],
   "source": [
    "import umap\n",
    "import numpy as np\n",
    "from tqdm import tqdm\n",
    "\n",
    "embeddings = collection.get(include=['embeddings'])['embeddings']\n",
    "umap_projector = umap.UMAP(random_state=0, transform_seed=0).fit(embeddings)\n",
    "\n",
    "def project_embeddings(embeddings, umap_projector):\n",
    "    umap_embeddings = np.empty((len(embeddings),2))\n",
    "    for i, embedding in enumerate(tqdm(embeddings)): \n",
    "        umap_embeddings[i] = umap_projector.transform([embedding])\n",
    "    return umap_embeddings   \n",
    "\n",
    "projected_dataset_embeddings = project_embeddings(embeddings, umap_projector)"
   ]
  },
  {
   "cell_type": "code",
   "execution_count": 11,
   "id": "e27e069a",
   "metadata": {},
   "outputs": [
    {
     "data": {
      "image/png": "[encoded data removed]",
      "text/plain": [
       "<Figure size 640x480 with 1 Axes>"
      ]
     },
     "metadata": {},
     "output_type": "display_data"
    }
   ],
   "source": [
    "import matplotlib.pyplot as plt\n",
    "\n",
    "plt.figure()\n",
    "plt.scatter(projected_dataset_embeddings[:, 0], projected_dataset_embeddings[:, 1], s=15, c=\"grey\")\n",
    "plt.gca().set_aspect('equal', 'datalim')\n",
    "plt.title('Projected Embeddings')\n",
    "plt.axis('off');"
   ]
  },
  {
   "cell_type": "markdown",
   "id": "09f59d6f",
   "metadata": {},
   "source": [
    "## 3. Query Vector Store"
   ]
  },
  {
   "cell_type": "code",
   "execution_count": 12,
   "id": "8276363c",
   "metadata": {
    "scrolled": true
   },
   "outputs": [
    {
     "data": {
      "text/plain": [
       "dict_keys(['ids', 'distances', 'metadatas', 'embeddings', 'documents', 'uris', 'data', 'included'])"
      ]
     },
     "execution_count": 12,
     "metadata": {},
     "output_type": "execute_result"
    }
   ],
   "source": [
    "#query = \"What was the total revenue?\"\n",
    "query = \"What are risk factors for the company?\"\n",
    "\n",
    "results = collection.query(query_texts=[query], n_results=5, include=['documents', 'embeddings'])\n",
    "\n",
    "results.keys()"
   ]
  },
  {
   "cell_type": "code",
   "execution_count": 13,
   "id": "5b2e62f3",
   "metadata": {
    "scrolled": true
   },
   "outputs": [
    {
     "name": "stdout",
     "output_type": "stream",
     "text": [
      "Item 1A. Risk Factors\n",
      "The Company’s business, reputation, results of operations, financial condition and stock price can be affected by a number of \n",
      "factors, whether currently known or unknown, including those described below. When any one or more of these risks materialize \n",
      "from time to time, the Company’s business, reputation, results of operations, financial condition and stock price can be materially \n",
      "and adversely affected.\n",
      "Because of the following factors, as well as other factors affecting the Company’s results of operations and financial condition, \n",
      "past financial performance should not be considered to be a reliable indicator of future performance, and investors should not \n",
      "use historical trends to anticipate results or trends in future periods. This discussion of risk factors contains forward-looking \n",
      "statements.\n",
      "This section should be read in conjunction with Part II, Item 7, “Management’s Discussion and Analysis of Financial Condition\n",
      "==========================================\n",
      "instability; inability to obtain credit to finance business operations; and insolvency.\n",
      "Adverse economic conditions can also lead to increased credit and collectibility risk on the Company’s trade receivables; the \n",
      "failure of derivative counterparties and other financial institutions; limitations on the Company’s ability to issue new debt; reduced \n",
      "liquidity; and declines in the fair values of the Company’s financial instruments. These and other impacts can materially \n",
      "adversely affect the Company’s business, results of operations, financial condition and stock price.\n",
      "The Company’s business can be impacted by political events, trade and other international disputes, war, terrorism, \n",
      "natural disasters, public health issues, industrial accidents and other business interruptions.\n",
      "Political events, trade and other international disputes, war, terrorism, natural disasters, public health issues, industrial accidents\n",
      "==========================================\n",
      "Company’s services have not performed as anticipated and may not meet customer expectations. There can be no assurance \n",
      "the Company will be able to detect and fix all issues and defects in the hardware, software and services it offers. Failure to do so \n",
      "can result in widespread technical and performance issues affecting the Company’s products and services. In addition, the \n",
      "Company can be exposed to product liability claims, recalls, product replacements or modifications, write-offs of inventory, \n",
      "property, plant and equipment or intangible assets, and significant warranty and other expenses, including litigation costs and \n",
      "regulatory fines. Quality problems can also adversely affect the experience for users of the Company’s products and services, \n",
      "and result in harm to the Company’s reputation, loss of competitive advantage, poor market acceptance, reduced demand for \n",
      "products and services, delay in new product and service introductions and lost sales.\n",
      "==========================================\n",
      "international disputes could also have a negative effect on consumer confidence and spending, which could adversely affect the \n",
      "Company’s business.\n",
      "Many of the Company’s operations and facilities, as well as critical business operations of the Company’s suppliers and contract \n",
      "manufacturers, are in locations that are prone to earthquakes and other natural disasters. In addition, such operations and \n",
      "facilities are subject to the risk of interruption by fire, power shortages, nuclear power plant accidents and other industrial \n",
      "accidents, terrorist attacks and other hostile acts, ransomware and other cybersecurity attacks, labor disputes, public health \n",
      "issues, including pandemics such as the COVID-19 pandemic, and other events beyond the Company’s control. Global climate \n",
      "change is resulting in certain types of natural disasters, such as droughts, floods, hurricanes and wildfires, occurring more\n",
      "==========================================\n",
      "Company will be able to continue to provide products and services that compete effectively.\n",
      "Business Risks\n",
      "To remain competitive and stimulate customer demand, the Company must successfully manage frequent introductions \n",
      "and transitions of products and services.\n",
      "Due to the highly volatile and competitive nature of the markets and industries in which the Company competes, the Company \n",
      "must continually introduce new products, services and technologies, enhance existing products and services, effectively \n",
      "stimulate customer demand for new and upgraded products and services, and successfully manage the transition to these new \n",
      "and upgraded products and services. The success of new product and service introductions depends on a number of factors, \n",
      "including timely and successful development, market acceptance, the Company’s ability to manage the risks associated with new\n",
      "==========================================\n"
     ]
    }
   ],
   "source": [
    "retrieved_documents1 = results['documents'][0]\n",
    "\n",
    "for document in retrieved_documents1:\n",
    "    print(document)\n",
    "    print('==========================================')"
   ]
  },
  {
   "cell_type": "markdown",
   "id": "8b6bf86c",
   "metadata": {},
   "source": [
    "### Visualize Dataset, Query & Retrieved Docs"
   ]
  },
  {
   "cell_type": "code",
   "execution_count": 14,
   "id": "4933dd21",
   "metadata": {},
   "outputs": [
    {
     "name": "stderr",
     "output_type": "stream",
     "text": [
      "100%|█████████████████████████████████████████████████████████████████████████████████████| 1/1 [00:00<00:00,  2.33it/s]\n",
      "100%|█████████████████████████████████████████████████████████████████████████████████████| 5/5 [00:02<00:00,  2.08it/s]\n"
     ]
    }
   ],
   "source": [
    "retrieved_docs_embeddings = results['embeddings'][0]\n",
    "original_query_embeddings = distilroberta([query])\n",
    "\n",
    "projected_original_query_embedding = project_embeddings(original_query_embeddings, umap_projector)\n",
    "projected_retrieved_embeddings = project_embeddings(retrieved_docs_embeddings, umap_projector)"
   ]
  },
  {
   "cell_type": "code",
   "execution_count": 15,
   "id": "a78ac464",
   "metadata": {},
   "outputs": [
    {
     "data": {
      "image/png": "[encoded data removed]",
      "text/plain": [
       "<Figure size 640x480 with 1 Axes>"
      ]
     },
     "metadata": {},
     "output_type": "display_data"
    }
   ],
   "source": [
    "import matplotlib.pyplot as plt\n",
    "\n",
    "plt.figure()\n",
    "plt.scatter(projected_dataset_embeddings[:, 0], projected_dataset_embeddings[:, 1], s=15, c=\"grey\", label=\"Original Dataset\")\n",
    "plt.scatter(projected_original_query_embedding[:, 0], projected_original_query_embedding[:, 1], s=40, c=\"red\", label=\"Original Query\")\n",
    "plt.scatter(projected_retrieved_embeddings[:, 0], projected_retrieved_embeddings[:, 1], s=50, marker=\"x\", c=\"lime\", label=\"Retrieved Documents\")\n",
    "plt.gca().set_aspect('equal', 'datalim')\n",
    "plt.title('Projected Embeddings')\n",
    "plt.legend(loc=\"best\");\n",
    "plt.axis('off');"
   ]
  },
  {
   "cell_type": "markdown",
   "id": "77ca1b0d",
   "metadata": {},
   "source": [
    "## 4. Query Expansion with Generated Answer\n",
    "\n",
    "* **Reference Paper** - https://arxiv.org/abs/2305.03653\n"
   ]
  },
  {
   "cell_type": "code",
   "execution_count": 21,
   "id": "2aed808c",
   "metadata": {
    "scrolled": true
   },
   "outputs": [
    {
     "name": "stdout",
     "output_type": "stream",
     "text": [
      "**RISK FACTORS**\n",
      "\n",
      "Our business is subject to a number of risks and uncertainties that could affect our financial condition and results of operations. The following is a summary of some of the key risk factors that may impact our business:\n",
      "\n",
      "1. **Economic and Market Risks**: Our business is heavily influenced by global and regional economic conditions, including recession, inflation, interest rates, and market volatility. A decline in economic conditions could reduce demand for our products and services, while increased inflation or interest rates could reduce our profitability.\n",
      "2. **Competition and Market Share**: Our industry is highly competitive, and we face significant competition from established players and new entrants. If we are unable to maintain or increase our market share, our revenue and profitability could be negatively impacted.\n",
      "3. **Regulatory and Compliance Risks**: Our business is subject to various laws, regulations, and standards, including those related to data protection, antitrust, and intellectual property. Failure to comply with these regulations could result in fines, reputational damage, and loss of business.\n",
      "4. **Supply Chain Disruptions**: Our business relies on complex global supply chains, and disruptions to these chains could impact our ability to deliver products and services to our customers. Natural disasters, pandemics, and geopolitical events could all potentially disrupt our supply chain.\n",
      "5. **Cybersecurity Risks**: As a technology-driven company, we are vulnerable to cybersecurity threats, including data breaches and other malicious attacks. If our systems or data are compromised, we could suffer significant financial and reputational losses.\n",
      "6. **Product Liability and Warranty Claims**: We offer warranties and guarantees on our products, and we could be liable for claims arising from defects or malfunctions. If we experience a significant increase in warranty claims, our profitability could be negatively impacted.\n",
      "7. **Environmental and Social Responsibility Risks**: Our business operations have environmental and social impacts, and we are committed to reducing our footprint and promoting sustainability. However, if we fail to meet our environmental and social responsibility goals, we could face reputational damage and regulatory penalties.\n",
      "8. **Foreign Exchange and Currency Risks**: Our business is exposed to foreign exchange risks, particularly with respect to transactions denominated in currencies other than our functional currency. If exchange rates fluctuate significantly, our financial results could be impacted.\n",
      "9. **Intellectual Property Risks**: Our business relies on our intellectual property, including patents, trademarks, and copyrights. If we fail to protect our intellectual property, or if we are found to be infringing on the intellectual property rights of others, we could face significant losses.\n",
      "10. **Liquidity and Capital Resource Risks**: Our business requires significant capital expenditures and investments in research and development. If we are unable to access sufficient capital or manage our liquidity effectively, we could face significant financial challenges.\n",
      "\n",
      "These risk factors are not exhaustive, and additional risks and uncertainties may arise in the future. We continuously monitor and assess our risk profile, and we implement measures to mitigate these risks where possible.\n"
     ]
    }
   ],
   "source": [
    "def generate_answer(query, model=\"llama-3.1-70b-versatile\"):\n",
    "    messages = [\n",
    "        {\n",
    "            \"role\": \"system\",\n",
    "            \"content\": \"You are a helpful expert financial research assistant. Provide an example answer to the given question, that might be found in a document like an annual report. \"\n",
    "        },\n",
    "        {\"role\": \"user\", \"content\": query}\n",
    "    ] \n",
    "\n",
    "    response = client.chat.completions.create(\n",
    "        model=model,\n",
    "        messages=messages,\n",
    "    )\n",
    "    content = response.choices[0].message.content\n",
    "    return content\n",
    "\n",
    "generated_answer = generate_answer(query)\n",
    "\n",
    "print(generated_answer)"
   ]
  },
  {
   "cell_type": "code",
   "execution_count": 22,
   "id": "99e2ca53",
   "metadata": {
    "scrolled": true
   },
   "outputs": [
    {
     "name": "stdout",
     "output_type": "stream",
     "text": [
      "What are risk factors for the company?\n",
      "\n",
      "**RISK FACTORS**\n",
      "\n",
      "Our business is subject to a number of risks and uncertainties that could affect our financial condition and results of operations. The following is a summary of some of the key risk factors that may impact our business:\n",
      "\n",
      "1. **Economic and Market Risks**: Our business is heavily influenced by global and regional economic conditions, including recession, inflation, interest rates, and market volatility. A decline in economic conditions could reduce demand for our products and services, while increased inflation or interest rates could reduce our profitability.\n",
      "2. **Competition and Market Share**: Our industry is highly competitive, and we face significant competition from established players and new entrants. If we are unable to maintain or increase our market share, our revenue and profitability could be negatively impacted.\n",
      "3. **Regulatory and Compliance Risks**: Our business is subject to various laws, regulations, and standards, including those related to data protection, antitrust, and intellectual property. Failure to comply with these regulations could result in fines, reputational damage, and loss of business.\n",
      "4. **Supply Chain Disruptions**: Our business relies on complex global supply chains, and disruptions to these chains could impact our ability to deliver products and services to our customers. Natural disasters, pandemics, and geopolitical events could all potentially disrupt our supply chain.\n",
      "5. **Cybersecurity Risks**: As a technology-driven company, we are vulnerable to cybersecurity threats, including data breaches and other malicious attacks. If our systems or data are compromised, we could suffer significant financial and reputational losses.\n",
      "6. **Product Liability and Warranty Claims**: We offer warranties and guarantees on our products, and we could be liable for claims arising from defects or malfunctions. If we experience a significant increase in warranty claims, our profitability could be negatively impacted.\n",
      "7. **Environmental and Social Responsibility Risks**: Our business operations have environmental and social impacts, and we are committed to reducing our footprint and promoting sustainability. However, if we fail to meet our environmental and social responsibility goals, we could face reputational damage and regulatory penalties.\n",
      "8. **Foreign Exchange and Currency Risks**: Our business is exposed to foreign exchange risks, particularly with respect to transactions denominated in currencies other than our functional currency. If exchange rates fluctuate significantly, our financial results could be impacted.\n",
      "9. **Intellectual Property Risks**: Our business relies on our intellectual property, including patents, trademarks, and copyrights. If we fail to protect our intellectual property, or if we are found to be infringing on the intellectual property rights of others, we could face significant losses.\n",
      "10. **Liquidity and Capital Resource Risks**: Our business requires significant capital expenditures and investments in research and development. If we are unable to access sufficient capital or manage our liquidity effectively, we could face significant financial challenges.\n",
      "\n",
      "These risk factors are not exhaustive, and additional risks and uncertainties may arise in the future. We continuously monitor and assess our risk profile, and we implement measures to mitigate these risks where possible.\n"
     ]
    }
   ],
   "source": [
    "joint_query = f\"{query}\\n\\n{generated_answer}\"\n",
    "\n",
    "print(joint_query)"
   ]
  },
  {
   "cell_type": "code",
   "execution_count": 23,
   "id": "51f39131",
   "metadata": {
    "scrolled": true
   },
   "outputs": [
    {
     "name": "stdout",
     "output_type": "stream",
     "text": [
      "The Company is subject to complex and changing laws and regulations worldwide, which exposes the Company to \n",
      "potential liabilities, increased costs and other adverse effects on the Company’s business.\n",
      "The Company’s global operations are subject to complex and changing laws and regulations on subjects, including antitrust; \n",
      "privacy, data security and data localization; consumer protection; advertising, sales, billing and e-commerce; financial services \n",
      "and technology; product liability; intellectual property ownership and infringement; digital platforms; machine learning and \n",
      "artificial intelligence; internet, telecommunications and mobile communications; media, television, film and digital content; \n",
      "availability of third-party software applications and services; labor and employment; anticorruption; import, export and trade; \n",
      "foreign exchange controls and cash repatriation restrictions; anti–money laundering; foreign ownership and investment; tax; and\n",
      "==========================================\n",
      "construction and operation; manage relationships with existing retail partners; manage costs associated with fluctuations in the \n",
      "value of retail inventory; and obtain and renew leases in quality retail locations at a reasonable cost.\n",
      "Legal and Regulatory Compliance Risks\n",
      "The Company’s business, results of operations and financial condition could be adversely impacted by unfavorable \n",
      "results of legal proceedings or government investigations.\n",
      "The Company is subject to various claims, legal proceedings and government investigations that have arisen in the ordinary \n",
      "course of business and have not yet been fully resolved, and new matters may arise in the future. In addition, agreements \n",
      "entered into by the Company sometimes include indemnification provisions which can subject the Company to costs and \n",
      "damages in the event of a claim against an indemnified third party. The number of claims, legal proceedings and government\n",
      "==========================================\n",
      "Company will be able to continue to provide products and services that compete effectively.\n",
      "Business Risks\n",
      "To remain competitive and stimulate customer demand, the Company must successfully manage frequent introductions \n",
      "and transitions of products and services.\n",
      "Due to the highly volatile and competitive nature of the markets and industries in which the Company competes, the Company \n",
      "must continually introduce new products, services and technologies, enhance existing products and services, effectively \n",
      "stimulate customer demand for new and upgraded products and services, and successfully manage the transition to these new \n",
      "and upgraded products and services. The success of new product and service introductions depends on a number of factors, \n",
      "including timely and successful development, market acceptance, the Company’s ability to manage the risks associated with new\n",
      "==========================================\n",
      "instability; inability to obtain credit to finance business operations; and insolvency.\n",
      "Adverse economic conditions can also lead to increased credit and collectibility risk on the Company’s trade receivables; the \n",
      "failure of derivative counterparties and other financial institutions; limitations on the Company’s ability to issue new debt; reduced \n",
      "liquidity; and declines in the fair values of the Company’s financial instruments. These and other impacts can materially \n",
      "adversely affect the Company’s business, results of operations, financial condition and stock price.\n",
      "The Company’s business can be impacted by political events, trade and other international disputes, war, terrorism, \n",
      "natural disasters, public health issues, industrial accidents and other business interruptions.\n",
      "Political events, trade and other international disputes, war, terrorism, natural disasters, public health issues, industrial accidents\n",
      "==========================================\n",
      "that such policies and procedures will be effective in preventing a violation or a claim of a violation. As a result, the Company’s \n",
      "products could be banned, delayed or prohibited from importation, which could materially adversely affect the Company’s \n",
      "business, reputation, results of operations and financial condition.\n",
      "Expectations relating to environmental, social and governance considerations and related reporting obligations expose \n",
      "the Company to potential liabilities, increased costs, reputational harm, and other adverse effects on the Company’s \n",
      "business.\n",
      "Many governments, regulators, investors, employees, customers and other stakeholders are increasingly focused on \n",
      "environmental, social and governance considerations relating to businesses, including climate change and greenhouse gas \n",
      "emissions, human and civil rights, and diversity, equity and inclusion. In addition, the Company makes statements about its goals\n",
      "==========================================\n"
     ]
    }
   ],
   "source": [
    "results = collection.query(query_texts=[joint_query], n_results=5, include=['documents', 'embeddings'])\n",
    "\n",
    "retrieved_documents2 = results['documents'][0]\n",
    "\n",
    "for document in retrieved_documents2:\n",
    "    print(document)\n",
    "    print('==========================================')"
   ]
  },
  {
   "cell_type": "markdown",
   "id": "44dcc279",
   "metadata": {},
   "source": [
    "### Visualize Dataset, Query & Retrieved Docs"
   ]
  },
  {
   "cell_type": "code",
   "execution_count": 24,
   "id": "f3e9dc06",
   "metadata": {},
   "outputs": [
    {
     "name": "stderr",
     "output_type": "stream",
     "text": [
      "100%|█████████████████████████████████████████████████████████████████████████████████████| 1/1 [00:00<00:00,  2.32it/s]\n",
      "100%|█████████████████████████████████████████████████████████████████████████████████████| 1/1 [00:00<00:00,  2.36it/s]\n",
      "100%|█████████████████████████████████████████████████████████████████████████████████████| 5/5 [00:02<00:00,  2.08it/s]\n"
     ]
    }
   ],
   "source": [
    "retrieved_docs_embeddings = results['embeddings'][0]\n",
    "original_query_embeddings = distilroberta([query])\n",
    "joint_query_embeddings = distilroberta([joint_query])\n",
    "\n",
    "projected_original_query_embedding = project_embeddings(original_query_embeddings, umap_projector)\n",
    "projected_joint_query_embedding = project_embeddings(joint_query_embeddings, umap_projector)\n",
    "projected_retrieved_embeddings = project_embeddings(retrieved_docs_embeddings, umap_projector)"
   ]
  },
  {
   "cell_type": "code",
   "execution_count": 25,
   "id": "a562a46d",
   "metadata": {},
   "outputs": [
    {
     "data": {
      "image/png": "[encoded data removed]",
      "text/plain": [
       "<Figure size 640x480 with 1 Axes>"
      ]
     },
     "metadata": {},
     "output_type": "display_data"
    }
   ],
   "source": [
    "import matplotlib.pyplot as plt\n",
    "\n",
    "plt.figure()\n",
    "plt.scatter(projected_dataset_embeddings[:, 0], projected_dataset_embeddings[:, 1], s=15, c=\"grey\", label=\"Original Dataset\")\n",
    "plt.scatter(projected_original_query_embedding[:, 0], projected_original_query_embedding[:, 1], s=40, c=\"red\", label=\"Original Query\")\n",
    "plt.scatter(projected_joint_query_embedding[:, 0], projected_joint_query_embedding[:, 1], s=40, c=\"orange\", label=\"New Joint Query\")\n",
    "plt.scatter(projected_retrieved_embeddings[:, 0], projected_retrieved_embeddings[:, 1], s=50, marker=\"x\", c=\"lime\", label=\"Retrieved Documents\")\n",
    "plt.gca().set_aspect('equal', 'datalim')\n",
    "plt.title('Projected Embeddings')\n",
    "plt.legend(loc=\"best\");\n",
    "plt.axis('off');"
   ]
  },
  {
   "cell_type": "markdown",
   "id": "3e804b38",
   "metadata": {},
   "source": [
    "## 5. Query Expansion using Generated Queries"
   ]
  },
  {
   "cell_type": "code",
   "execution_count": 31,
   "id": "72e63248",
   "metadata": {},
   "outputs": [],
   "source": [
    "def generate_queries(query, model=\"llama-3.1-70b-versatile\"):\n",
    "    messages = [\n",
    "        {\n",
    "            \"role\": \"system\",\n",
    "            \"content\": \"You are a helpful expert financial research assistant. Your users are asking questions about an annual report. \"\n",
    "            \"Suggest up to five additional related questions to help them find the information they need, for the provided question. \"\n",
    "            \"Suggest only short questions without compound sentences. Suggest a variety of questions that cover different aspects of the topic.\"\n",
    "            \"Make sure they are complete questions, and that they are related to the original question.\"\n",
    "            \"Output one question per line. Do not number the questions.\"\n",
    "        },\n",
    "        {\"role\": \"user\", \"content\": query}\n",
    "    ]\n",
    "\n",
    "    response = client.chat.completions.create(\n",
    "        model=model,\n",
    "        messages=messages,\n",
    "    )\n",
    "    content = response.choices[0].message.content\n",
    "    content = content.split(\"\\n\")\n",
    "    return content"
   ]
  },
  {
   "cell_type": "code",
   "execution_count": 32,
   "id": "c998063a",
   "metadata": {},
   "outputs": [
    {
     "name": "stdout",
     "output_type": "stream",
     "text": [
      "What are the company's most significant risk factors?\n",
      "How does the company manage cybersecurity threats?\n",
      "Are there any pending lawsuits or regulatory issues?\n",
      "What is the company's disaster recovery plan?\n",
      "How does the company assess and prioritize potential risks?\n"
     ]
    }
   ],
   "source": [
    "augmented_queries = generate_queries(query)\n",
    "augmented_queries = [query for query in augmented_queries if query.strip()]\n",
    "\n",
    "for query in augmented_queries:\n",
    "    print(query)"
   ]
  },
  {
   "cell_type": "code",
   "execution_count": 33,
   "id": "53a3071d",
   "metadata": {},
   "outputs": [
    {
     "data": {
      "text/plain": [
       "(6, 19)"
      ]
     },
     "execution_count": 33,
     "metadata": {},
     "output_type": "execute_result"
    }
   ],
   "source": [
    "queries = [query] + augmented_queries\n",
    "results = collection.query(query_texts=queries, n_results=5, include=['documents', 'embeddings'])\n",
    "\n",
    "retrieved_documents = results['documents']\n",
    "\n",
    "# Deduplicate the retrieved documents\n",
    "unique_documents = set()\n",
    "for documents in retrieved_documents:\n",
    "    for document in documents:\n",
    "        unique_documents.add(document)\n",
    "        \n",
    "len(queries), len(unique_documents)"
   ]
  },
  {
   "cell_type": "markdown",
   "id": "e3e7c3dd",
   "metadata": {},
   "source": [
    "### Visualize Dataset, Query & Retrieved Docs Embeddings"
   ]
  },
  {
   "cell_type": "code",
   "execution_count": 34,
   "id": "f60905eb",
   "metadata": {},
   "outputs": [
    {
     "name": "stderr",
     "output_type": "stream",
     "text": [
      "100%|█████████████████████████████████████████████████████████████████████████████████████| 1/1 [00:00<00:00,  2.29it/s]\n",
      "100%|█████████████████████████████████████████████████████████████████████████████████████| 6/6 [00:02<00:00,  2.10it/s]\n",
      "100%|███████████████████████████████████████████████████████████████████████████████████| 30/30 [00:14<00:00,  2.13it/s]\n"
     ]
    }
   ],
   "source": [
    "retrieved_docs_embeddings = results['embeddings']\n",
    "retrieved_docs_embeddings = [item for sublist in retrieved_docs_embeddings for item in sublist]\n",
    "original_query_embeddings = distilroberta([query])\n",
    "queries_embeddings = distilroberta(queries)\n",
    "\n",
    "projected_original_query_embedding = project_embeddings(original_query_embeddings, umap_projector)\n",
    "projected_queries_embedding = project_embeddings(queries_embeddings, umap_projector)\n",
    "projected_retrieved_embeddings = project_embeddings(retrieved_docs_embeddings, umap_projector)"
   ]
  },
  {
   "cell_type": "code",
   "execution_count": 35,
   "id": "3720aa9d",
   "metadata": {},
   "outputs": [
    {
     "data": {
      "image/png": "[encoded data removed]",
      "text/plain": [
       "<Figure size 640x480 with 1 Axes>"
      ]
     },
     "metadata": {},
     "output_type": "display_data"
    }
   ],
   "source": [
    "import matplotlib.pyplot as plt\n",
    "\n",
    "plt.figure()\n",
    "plt.scatter(projected_dataset_embeddings[:, 0], projected_dataset_embeddings[:, 1], s=15, c=\"grey\", label=\"Original Dataset\")\n",
    "plt.scatter(projected_original_query_embedding[:, 0], projected_original_query_embedding[:, 1], s=100, c=\"red\", label=\"Original Query\")\n",
    "plt.scatter(projected_queries_embedding[:, 0], projected_queries_embedding[:, 1], s=40, c=\"orange\", label=\"Generated Queries\")\n",
    "plt.scatter(projected_retrieved_embeddings[:, 0], projected_retrieved_embeddings[:, 1], s=50, marker=\"x\", c=\"lime\", label=\"Retrieved Documents\")\n",
    "plt.gca().set_aspect('equal', 'datalim')\n",
    "plt.title('Projected Embeddings')\n",
    "plt.legend(loc=\"best\");\n",
    "plt.axis('off');"
   ]
  },
  {
   "cell_type": "markdown",
   "id": "dd0adca2",
   "metadata": {},
   "source": [
    "## 6. Build RAG"
   ]
  },
  {
   "cell_type": "code",
   "execution_count": 42,
   "id": "e35f4e53",
   "metadata": {},
   "outputs": [],
   "source": [
    "def rag(query, retrieved_documents, model=\"llama-3.1-70b-versatile\"):\n",
    "    information = \"\\n\\n\".join(retrieved_documents)\n",
    "\n",
    "    messages = [\n",
    "        {\n",
    "            \"role\": \"system\",\n",
    "            \"content\": \"You are an expert financial research assistant. Your users are asking questions about information contained in an annual report.\"\n",
    "            \"You will be given the user's query, and the relevant information from the annual report. Answer the user's question using only this information.\"\n",
    "        },\n",
    "        {\"role\": \"user\", \"content\": f\"Question: {query}. \\n Information: {information}\"}\n",
    "    ]\n",
    "    \n",
    "    response = client.chat.completions.create(\n",
    "        model=model,\n",
    "        messages=messages,\n",
    "    )\n",
    "    content = response.choices[0].message.content\n",
    "    return content"
   ]
  },
  {
   "cell_type": "code",
   "execution_count": 46,
   "id": "2a68ebfd",
   "metadata": {},
   "outputs": [
    {
     "name": "stdout",
     "output_type": "stream",
     "text": [
      "Unfortunately, the provided information does not specifically mention how the company assesses and prioritizes potential risks. It outlines the various types of risks the company is exposed to, such as adverse economic conditions, business interruptions, quality problems, supply chain risks, cybersecurity attacks, climate change, and the like, as well as factors that may affect its results of operations, financial condition, and stock price.\n",
      "\n",
      "However, it does mention that this discussion of risk factors should be read in conjunction with Part II, Item 7, \"Management's Discussion and Analysis of Financial Condition\", which might indicate that further risk assessment information may be found in that section, although this is only speculation without access to the content of that part.\n",
      "\n",
      "As this response doesn't cover information requested within those materials mentioned this material section simply represents parts one wouldn't investigate via actual Q orA requests through so hopefully aids getting exactly back these certain characteristics throughout still useful you try information & financial query options giving straight requests available such form found different available detail although text passages covered back said review current as business product covered example provided aid common factors how their reports best back actual can affect multiple main full straight even the would major first well give terms results next line year history term available though parts clearly look throughout much final generalGuidId company term their past long just management discuss so with a read about only product factors is straight different important now very or most same which about its further see them good this is made throughout\n"
     ]
    }
   ],
   "source": [
    "output = rag(query=query, retrieved_documents=retrieved_documents1)\n",
    "\n",
    "print(output)"
   ]
  },
  {
   "cell_type": "code",
   "execution_count": 47,
   "id": "8489a724",
   "metadata": {},
   "outputs": [
    {
     "name": "stdout",
     "output_type": "stream",
     "text": [
      "According to the provided information, the company assesses and prioritizes potential risks through identifying and categorizing various types of risks that could impact its business, results of operations, and financial condition. These risks include:\n",
      "\n",
      "1. Legal and Regulatory Compliance Risks: Compliance with complex and changing laws and regulations worldwide, potential liabilities, increased costs, and other adverse effects.\n",
      "2. Business Risks: Managing frequent introductions and transitions of products and services, stimulating customer demand, and successfully managing the transition to new and upgraded products and services.\n",
      "3. Economic Risks: Adverse economic conditions, instability, inability to obtain credit, insolvency, increased credit and collectibility risk, limitations on issuing new debt, reduced liquidity, and declines in the fair values of financial instruments.\n",
      "4. Operational Risks: Political events, trade and other international disputes, war, terrorism, natural disasters, public health issues, industrial accidents, and other business interruptions.\n",
      "5. Reputation Risks: Violation of policies and procedures, potential banning or prohibition of products, and reputational harm.\n",
      "6. Environmental, Social and Governance Risks: Non-compliance with expectations, increased liabilities, increased costs, reputational harm, and adverse effects on business, climate change and greenhouse gas emissions, human and civil rights, diversity, equity and inclusion.\n",
      "\n",
      "It can be inferred that the company attempts to identify potential risks across multiple domains, likely based on impact, probability and control methods or overall monitoring environmental surroundings like evaluating world supply distribution.. By so do you accomplish \"Assessing\" and \"Prioritizing\"\n"
     ]
    }
   ],
   "source": [
    "output = rag(query=query, retrieved_documents=retrieved_documents2)\n",
    "\n",
    "print(output)"
   ]
  },
  {
   "cell_type": "code",
   "execution_count": 49,
   "id": "772b85df",
   "metadata": {},
   "outputs": [
    {
     "name": "stdout",
     "output_type": "stream",
     "text": [
      "The company assesses and prioritizes potential risks through a comprehensive risk management process. The company identifies potential risks in various areas, including:\n",
      "\n",
      "1. Legal and Regulatory Compliance Risks: The company is subject to various laws and regulations worldwide, which exposes it to potential liabilities, increased costs, and other adverse effects on its business.\n",
      "2. Business Risks: The company faces risks related to its business operations, including the introduction of new products and services, managing relationships with existing retail partners, and obtaining and renewing leases in quality retail locations.\n",
      "3. Information Technology Risks: The company's business and reputation are impacted by information technology system failures and network disruptions.\n",
      "4. Intellectual Property Risks: The company faces risks related to patent claims and infringement actions.\n",
      "5. Environmental, Social, and Governance Risks: The company is exposed to potential liabilities, increased costs, reputational harm, and other adverse effects on its business related to environmental, social, and governance considerations.\n",
      "6. Economic Risks: The company's business can be impacted by adverse economic conditions, including recession, inflation, and changes in interest rates.\n",
      "7. Political and International Risks: The company's business can be impacted by political events, trade and other international disputes, war, terrorism, natural disasters, public health issues, industrial accidents, and other business interruptions.\n",
      "\n",
      "The company prioritizes these risks based on their potential impact on its business, reputation, results of operations, financial condition, and stock price. The company also takes steps to mitigate these risks, including:\n",
      "\n",
      "1. Implementing systems and processes to secure its information technology systems and prevent unauthorized access to or loss of sensitive data.\n",
      "2. Developing and maintaining relationships with existing retail partners and suppliers.\n",
      "3. Investing in programs to enhance reseller sales and improve product placement displays.\n",
      "4. Monitoring its services and systems for security breaches and malicious attacks.\n",
      "5. Developing and implementing business continuity and disaster recovery plans to minimize the impact of business interruptions.\n",
      "\n",
      "However, the company acknowledges that it cannot provide absolute security and that losses or unauthorized access to or releases of confidential information can still occur, which could materially adversely affect its business, reputation, results of operations, and financial condition.\n"
     ]
    }
   ],
   "source": [
    "output = rag(query=query, retrieved_documents=unique_documents)\n",
    "\n",
    "print(output)"
   ]
  },
  {
   "cell_type": "markdown",
   "id": "57ec4dde",
   "metadata": {},
   "source": [
    "## Summary\n",
    "\n",
    "In this video, I explained how to improve RAG app performance using **Query Expansion** technique. Please feel free to let me know your views."
   ]
  },
  {
   "cell_type": "code",
   "execution_count": null,
   "id": "8a15ccd0",
   "metadata": {},
   "outputs": [],
   "source": []
  }
 ],
 "metadata": {
  "kernelspec": {
   "display_name": "Python 3 (ipykernel)",
   "language": "python",
   "name": "python3"
  },
  "language_info": {
   "codemirror_mode": {
    "name": "ipython",
    "version": 3
   },
   "file_extension": ".py",
   "mimetype": "text/x-python",
   "name": "python",
   "nbconvert_exporter": "python",
   "pygments_lexer": "ipython3",
   "version": "3.10.9"
  }
 },
 "nbformat": 4,
 "nbformat_minor": 5
}
