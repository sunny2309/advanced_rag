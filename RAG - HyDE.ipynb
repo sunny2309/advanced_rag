{
 "cells": [
  {
   "cell_type": "markdown",
   "id": "99822786",
   "metadata": {},
   "source": [
    "# Hypothetical Document Embeddings (HyDE)\n",
    "\n",
    "Research Paper -> https://arxiv.org/abs/2212.10496\n",
    "\n",
    "### How it Works?\n",
    "\n",
    "Given a query, the Hypothetical Document Embeddings (HyDE) first zero-shot prompts an instruction-following language model to generate a “fake” hypothetical document that captures relevant textual patterns from the initial query - in practice, this is done five times. Then, it encodes each hypothetical document into an embedding vector and averages them. The resulting, single embedding can be used to identify a neighbourhood in the document embedding space from which similar actual documents are retrieved based on vector similarity. As with any other retriever, these retrieved documents can then be used downstream in a pipeline (for example, in a Generator for RAG).\n",
    "\n",
    "### When Is It Helpful?\n",
    "\n",
    "The HyDE method is highly useful when:\n",
    "\n",
    "* The performance of the retrieval step in your pipeline is not good enough (for example, low Recall metric).\n",
    "* Your retrieval step has a query as input and returns documents from a larger document base.\n",
    "* Particularly worth a try if your data (documents or queries) come from a special domain that is very different from the typical datasets that Retrievers are trained on.\n",
    "\n",
    "(Source -> [Haystack HyDE Article](https://docs.haystack.deepset.ai/docs/hypothetical-document-embeddings-hyde))\n",
    "\n",
    "### Table of Contents\n",
    "\n",
    "1. **Load Data**\n",
    "    * Split Data into Chunks\n",
    "2. **Create Vector Store & Load Text Chunks**\n",
    "    * Define Vector Store & Collection\n",
    "    * Add Text Chunks to Collection\n",
    "    * Visualize Dataset\n",
    "3. **Query Vector Store**\n",
    "    * Visualize Original Query & Retrieved Docs\n",
    "4. **HyDE**\n",
    "    * Visualize Original Query & Retrieved Docs\n",
    "5. **HyDE (Avg. Embeddings of Answers)**\n",
    "    * Visualize Original Query & Retrieved Docs\n",
    "6. **RAG Performance**\n",
    "\n",
    "### Installation\n",
    "\n",
    "* **pip install groq**\n",
    "* **pip install langchain**\n",
    "* **pip install chromadb**"
   ]
  },
  {
   "cell_type": "code",
   "execution_count": 1,
   "id": "36591d1b",
   "metadata": {},
   "outputs": [],
   "source": [
    "import dotenv\n",
    "import os\n",
    "\n",
    "dotenv.load_dotenv(dotenv.find_dotenv())\n",
    "\n",
    "groq_api_key = os.environ[\"GROQ_API_KEY\"]"
   ]
  },
  {
   "cell_type": "code",
   "execution_count": 2,
   "id": "96568b6a",
   "metadata": {},
   "outputs": [
    {
     "name": "stdout",
     "output_type": "stream",
     "text": [
      "0.5.4\n"
     ]
    }
   ],
   "source": [
    "import chromadb\n",
    "\n",
    "print(chromadb.__version__)"
   ]
  },
  {
   "cell_type": "markdown",
   "id": "f53321d2",
   "metadata": {},
   "source": [
    "* Login to **https://console.groq.com** and create API Key.\n",
    "\n",
    "<img src=\"GroqModels.jpg\" width=800/>"
   ]
  },
  {
   "cell_type": "code",
   "execution_count": 3,
   "id": "e28f587e",
   "metadata": {},
   "outputs": [],
   "source": [
    "from groq import Groq\n",
    "\n",
    "client = Groq(\n",
    "    api_key=groq_api_key,\n",
    ")"
   ]
  },
  {
   "cell_type": "markdown",
   "id": "706c81ba",
   "metadata": {},
   "source": [
    "## 1. Load Data\n",
    "\n",
    "* **Form 10-K** is a comprehensive report filed annually by a publicly traded company about its financial performance and is required by the **U.S. Securities and Exchange Commission (SEC)**.\n",
    "\n"
   ]
  },
  {
   "cell_type": "code",
   "execution_count": 4,
   "id": "fc5ba6c8",
   "metadata": {},
   "outputs": [
    {
     "data": {
      "text/plain": [
       "147"
      ]
     },
     "execution_count": 4,
     "metadata": {},
     "output_type": "execute_result"
    }
   ],
   "source": [
    "from pypdf import PdfReader\n",
    "\n",
    "reader = PdfReader(\"Meta-10-k-2023.pdf\")\n",
    "\n",
    "pages = [page.extract_text().strip() for page in reader.pages]\n",
    "pages = [page for page in pages if page]\n",
    "\n",
    "len(pages)"
   ]
  },
  {
   "cell_type": "code",
   "execution_count": 5,
   "id": "9b95bb01",
   "metadata": {
    "scrolled": true
   },
   "outputs": [
    {
     "name": "stdout",
     "output_type": "stream",
     "text": [
      "UNITED ST ATES\n",
      "SECURITIES AND EXCHANGE COMMISSION\n",
      "Washington, D.C. 20549\n",
      "__________________________\n",
      "FORM 10-K\n",
      "__________________________\n",
      "(Mark One)\n",
      "☒    ANNUAL  REPOR T PURSUANT  TO SECTION 13 OR 15(d) OF  THE SECURITIES EXCHANGE ACT  OF 1934\n",
      "For the fiscal year  ended December  31, 2023\n",
      "or\n",
      "☐    TRANSITION REPOR T PURSUANT  TO SECTION 13 OR 15(d) OF  THE SECURITIES EXCHANGE ACT  OF 1934\n",
      "For the transition period fr om            to            \n",
      "Commission File Number: 001-35551\n",
      "__________________________\n",
      "Meta Platforms, Inc.\n",
      "(Exact name of r egistrant as specified in its charter)\n",
      "__________________________\n",
      "Delawar e 20-1665019\n",
      "(State or other jurisdiction of incorporation or organization) (I.R.S. Employer Identification Number)\n",
      "1 Meta Way, Menlo Park, California 94025\n",
      "(Address of principal executive offices and Zip Code)\n",
      "(650) 543-4800\n",
      "(Registrant's telephone number, including area code)\n",
      "__________________________\n",
      "Securities r egister ed pursuant to Section 12(b) of the Act:\n",
      "Title of each class Trading symbol(s) Name of each exchange on which registered\n",
      "Class A Common Stock, $0.000006 par value MET A The Nasdaq Stock Market LLC\n",
      "Securities r egister ed pursuant to Section 12(g) of the Act: None\n",
      "Indicate by check mark if the registrant is a well-known seasoned issuer, as defined in Rule 405 of the Securities Act.    Yes  ☒   No   ☐\n",
      "Indicate by check mark if the registrant is not required to file reports pursuant to Section 13 or Section 15(d) of the Act.    Yes  ☐  No  ☒\n",
      "Indicate by check mark whether the registrant (1) has filed all reports required to be filed by Section 13 or 15(d) of the Securities Exchange Act of 1934 (Exchange Act) during the preceding\n",
      "12 months (or for such shorter period that the registrant was required to file such reports), and (2) has been subject to such filing requirements for the past 90 days.    Yes  ☒     No  ☐\n",
      "Indicate by check mark whether the registrant has submitted electronically every Interactive Data File required to be submitted pursuant to Rule 405 of Regulation S-T (§ 232.405 of this chapter)\n",
      "during the preceding 12 months (or for such shorter period that the registrant was required to submit such files).    Yes  ☒     No  ☐\n",
      "Indicate by check mark whether the registrant is a large accelerated filer, an accelerated filer, a non-accelerated filer, a smaller reporting company, or an emerging growth company. See the definitions\n",
      "of \"large accelerated filer,\" \"accelerated filer,\" \"smaller reporting company,\" and \"emerging growth company\" in Rule 12b-2 of the Exchange Act.\n",
      "Large accelerated filer ☒ Accelerated filer ☐\n",
      "Non-accelerated filer ☐ Smaller reporting company ☐\n",
      "Emerging growth company ☐\n",
      "If an emerging growth company, indicate by check mark if the registrant has elected not to use the extended transition period for complying with any new or revised financial accounting standards\n",
      "provided pursuant to Section 13(a) of the Exchange Act. ☐\n",
      "Indicate by check mark whether the registrant has filed a report on and attestation to its management's assessment of the effectiveness of its internal control over financial reporting under Section\n",
      "404(b) of the Sarbanes-Oxley Act (15 U.S.C. 7262(b)) by the registered public accounting firm that prepared or issued its audit report. ☒\n",
      "If securities are registered pursuant to Section 12(b) of the Act, indicate by check mark whether the financial statements of the registrant included in the filing reflect the correction of an error to\n",
      "previously issued financial statements. ☐\n",
      "Indicate by check mark whether any of those error corrections are restatements that required a recovery analysis of incentive-based compensation received by any of the registrant’s executive officers\n",
      "during the relevant recovery period pursuant to §240.10D-1(b). ☐\n",
      "Indicate by check mark whether the registrant is a shell company (as defined in Rule 12b-2 of the Exchange Act).    Yes  ☐     No   ☒\n",
      "The aggregate market value of the voting and non-voting stock held by non-affiliates of the registrant as of June 30, 2023, the last business day of the registrant's most recently completed second fiscal\n",
      "quarter, was $637 billion based upon the closing price reported for such date on the Nasdaq Global Select Market. On January 26, 2024, the registrant had 2,200,048,907 shares of Class A common\n",
      "stock and 349,356,199 shares of Class B common stock outstanding.\n"
     ]
    }
   ],
   "source": [
    "print(pages[0])"
   ]
  },
  {
   "cell_type": "markdown",
   "id": "7a1cd83f",
   "metadata": {},
   "source": [
    "### 1.1 Split Data into Text Chunks"
   ]
  },
  {
   "cell_type": "code",
   "execution_count": 6,
   "id": "d3770eed",
   "metadata": {},
   "outputs": [
    {
     "name": "stdout",
     "output_type": "stream",
     "text": [
      "Total chunks: 634\n"
     ]
    }
   ],
   "source": [
    "from langchain.text_splitter import RecursiveCharacterTextSplitter, SentenceTransformersTokenTextSplitter\n",
    "\n",
    "text_splitter  = RecursiveCharacterTextSplitter(\n",
    "    separators=[\"\\n\\n\", \"\\n\", \". \", \" \", \"\"],\n",
    "    chunk_size=1000,\n",
    "    chunk_overlap=25        \n",
    ")\n",
    "\n",
    "character_split_texts = text_splitter.split_text('\\n\\n'.join(pages))\n",
    "\n",
    "print(f\"Total chunks: {len(character_split_texts)}\")"
   ]
  },
  {
   "cell_type": "code",
   "execution_count": 7,
   "id": "2f6094bc",
   "metadata": {},
   "outputs": [
    {
     "name": "stdout",
     "output_type": "stream",
     "text": [
      "these risks and uncertainties, readers are cautioned not to place undue reliance on such forward‑looking statements.\n",
      "Unless expressly indicated or the context requires otherwise, the terms \"Meta,\" \"company,\" \"we,\" \"us,\" and \"our\" in this document refer to Meta\n",
      "Platforms, Inc., a Delaware corporation, and, where appropriate, its subsidiaries. The term \"Family\" refers to our Facebook, Instagram, Messenger, and\n",
      "WhatsApp products. For references to accessing Meta's products on the \"web\" or via a \"website,\" such terms refer to accessing such products on personal\n",
      "computers. For references to accessing Meta's products on \"mobile,\" such term refers to accessing such products via a mobile application or via a mobile-\n",
      "optimized version of our websites such as m.facebook.com, whether on a mobile phone or tablet.\n",
      "3\n"
     ]
    }
   ],
   "source": [
    "print((character_split_texts[10]))"
   ]
  },
  {
   "cell_type": "markdown",
   "id": "aedb1a29",
   "metadata": {},
   "source": [
    "## 2. Create Vector Store & Load Text Chunks"
   ]
  },
  {
   "cell_type": "markdown",
   "id": "8dc23e2e",
   "metadata": {},
   "source": [
    "### 2.1 Define Vector Store & Collection\n",
    "\n",
    "* https://www.sbert.net/docs/sentence_transformer/pretrained_models.html#original-models\n",
    "\n",
    "Check out our **[ChromaDB Tutorial](https://www.youtube.com/watch?v=-ElKVZRNcU8&t=673s)** if you are new to it."
   ]
  },
  {
   "cell_type": "code",
   "execution_count": 8,
   "id": "301f9b38",
   "metadata": {},
   "outputs": [],
   "source": [
    "from chromadb.utils.embedding_functions import SentenceTransformerEmbeddingFunction\n",
    "\n",
    "chroma_client = chromadb.PersistentClient(path=\"./meta_10_k\")\n",
    "distilroberta = SentenceTransformerEmbeddingFunction(model_name=\"all-distilroberta-v1\")\n",
    "\n",
    "collection = chroma_client.create_collection(name=\"meta_annual_report_2023\", \n",
    "                                             metadata={\"title\": \"Meta 10-k Report (2023)\", \n",
    "                                                       \"description\": \"This store contains embeddings of Meta Annual Report filed to SEC for 2023.\"},\n",
    "                                             embedding_function=distilroberta,\n",
    "                                             get_or_create=True)"
   ]
  },
  {
   "cell_type": "markdown",
   "id": "83d453a8",
   "metadata": {},
   "source": [
    "### 2.2 Add Text Chunks to Vector Store\n",
    "\n",
    "* Do not rerun this step if you have already ran it earlier. It'll add same texts again in persisted collection."
   ]
  },
  {
   "cell_type": "code",
   "execution_count": 9,
   "id": "2d9a4119",
   "metadata": {},
   "outputs": [],
   "source": [
    "collection.add(\n",
    "    documents=character_split_texts,\n",
    "    ids=[f\"Split-{idx}\" for idx in range(len(character_split_texts))]\n",
    ")"
   ]
  },
  {
   "cell_type": "code",
   "execution_count": 9,
   "id": "cf4ce971",
   "metadata": {
    "scrolled": false
   },
   "outputs": [
    {
     "data": {
      "text/plain": [
       "634"
      ]
     },
     "execution_count": 9,
     "metadata": {},
     "output_type": "execute_result"
    }
   ],
   "source": [
    "collection.count()"
   ]
  },
  {
   "cell_type": "markdown",
   "id": "8f683b93",
   "metadata": {},
   "source": [
    "### 2.3 Visualize Text Chunks"
   ]
  },
  {
   "cell_type": "code",
   "execution_count": 10,
   "id": "a63ca7f1",
   "metadata": {},
   "outputs": [
    {
     "name": "stderr",
     "output_type": "stream",
     "text": [
      "2024-08-16 00:47:19.501483: I tensorflow/tsl/cuda/cudart_stub.cc:28] Could not find cuda drivers on your machine, GPU will not be used.\n",
      "2024-08-16 00:47:19.536917: I tensorflow/core/platform/cpu_feature_guard.cc:182] This TensorFlow binary is optimized to use available CPU instructions in performance-critical operations.\n",
      "To enable the following instructions: AVX2 FMA, in other operations, rebuild TensorFlow with the appropriate compiler flags.\n",
      "2024-08-16 00:47:20.245448: W tensorflow/compiler/tf2tensorrt/utils/py_utils.cc:38] TF-TRT Warning: Could not find TensorRT\n",
      "100%|█████████████████████████████████████████████████████████████████████████████████| 634/634 [05:07<00:00,  2.06it/s]\n"
     ]
    }
   ],
   "source": [
    "import umap\n",
    "import numpy as np\n",
    "from tqdm import tqdm\n",
    "\n",
    "embeddings = collection.get(include=['embeddings'])['embeddings']\n",
    "umap_projector = umap.UMAP(random_state=0, transform_seed=0).fit(embeddings)\n",
    "\n",
    "def project_embeddings(embeddings, umap_projector):\n",
    "    umap_embeddings = np.empty((len(embeddings),2))\n",
    "    for i, embedding in enumerate(tqdm(embeddings)): \n",
    "        umap_embeddings[i] = umap_projector.transform([embedding])\n",
    "    return umap_embeddings   \n",
    "\n",
    "projected_dataset_embeddings = project_embeddings(embeddings, umap_projector)"
   ]
  },
  {
   "cell_type": "code",
   "execution_count": 11,
   "id": "02e0083e",
   "metadata": {},
   "outputs": [
    {
     "data": {
      "image/png": "[encoded data removed]",
      "text/plain": [
       "<Figure size 640x480 with 1 Axes>"
      ]
     },
     "metadata": {},
     "output_type": "display_data"
    }
   ],
   "source": [
    "import matplotlib.pyplot as plt\n",
    "\n",
    "plt.figure()\n",
    "plt.scatter(projected_dataset_embeddings[:, 0], projected_dataset_embeddings[:, 1], s=15, c=\"grey\")\n",
    "plt.gca().set_aspect('equal', 'datalim')\n",
    "plt.title('Projected Embeddings')\n",
    "plt.axis('off');"
   ]
  },
  {
   "cell_type": "markdown",
   "id": "5f23c49e",
   "metadata": {},
   "source": [
    "## 3. Query Vector Store"
   ]
  },
  {
   "cell_type": "code",
   "execution_count": 13,
   "id": "1a6fdd56",
   "metadata": {},
   "outputs": [
    {
     "data": {
      "text/plain": [
       "dict_keys(['ids', 'distances', 'metadatas', 'embeddings', 'documents', 'uris', 'data', 'included'])"
      ]
     },
     "execution_count": 13,
     "metadata": {},
     "output_type": "execute_result"
    }
   ],
   "source": [
    "query = \"What are risk factors for the company?\"\n",
    "\n",
    "results = collection.query(query_texts=[query], n_results=10, include=['documents', 'embeddings'])\n",
    "\n",
    "results.keys()"
   ]
  },
  {
   "cell_type": "code",
   "execution_count": 14,
   "id": "89b7c480",
   "metadata": {
    "scrolled": true
   },
   "outputs": [
    {
     "name": "stdout",
     "output_type": "stream",
     "text": [
      "Summary Risk Factors\n",
      "Our business is subject to a number of risks, including risks that may prevent us from achieving our business objectives or may adversely affect our\n",
      "business, financial condition, results of operations, cash flows, and prospects. These risks are discussed more fully below and include, but are not limited to,\n",
      "risks related to:\n",
      "Risks Related to Our Product Offerings\n",
      "•our ability to add and retain users and maintain levels of user engagement with our products;\n",
      "•the loss of, or reduction in spending by, our marketers;\n",
      "•reduced availability of data signals used by our ad targeting and measurement tools;\n",
      "•ineffective operation with mobile operating systems or changes in our relationships with mobile operating system partners;\n",
      "•failure of our new products, or changes to our existing products, to attract or retain users or generate revenue;\n",
      "Risks Related to Our Business Operations and Financial Results\n",
      "•our ability to compete effectively;\n",
      "==========================================\n",
      "criminal liability (including liability for our personnel) or penalties (including substantial monetary remedies), interrupt or require us to change our business\n",
      "practices in a manner materially adverse to our business (including changes to our products or user data practices), result in negative publicity and reputational\n",
      "harm, divert resources and the time and attention of management from our business, or subject us to other structural or behavioral remedies that adversely\n",
      "affect our business.\n",
      "For additional information about government regulation applicable to our business, see Part I, Item 1A, \"Risk Factors\" in this Annual Report on Form\n",
      "10-K.\n",
      "Human Capital\n",
      "At Meta, everything we do is about helping people feel connected and closer, and we are proud of our unique company culture.\n",
      "We had a global workforce of 67,317 employees as of December 31, 2023, and we have offices in approximately 90 cities around the world. We are\n",
      "==========================================\n",
      "Table of Contents\n",
      "Item 1A.Risk Factors\n",
      "Certain factors may have a material adverse effect on our business, financial condition, and results of operations. You should consider carefully the risks and\n",
      "uncertainties described below, in addition to other information contained in this Annual Report on Form 10-K, including our consolidated financial statements\n",
      "and related notes. The risks and uncertainties described below are not the only ones we face. Additional risks and uncertainties that we are unaware of, or that\n",
      "we currently believe are not material, may also become important factors that adversely affect our business. If any of the following risks actually occurs, our\n",
      "business, financial condition, results of operations, and future prospects could be materially and adversely affected. In that event, the trading price of our\n",
      "Class A common stock could decline, and you could lose part or all of your investment.\n",
      "Summary Risk Factors\n",
      "==========================================\n",
      "financial, and management processes and systems, manage our headcount and facilities, and effectively train and manage our personnel. Many of our personnel\n",
      "work remotely, which may lead to challenges in productivity and collaboration. In addition, from time to time, we implement organizational changes to pursue\n",
      "greater efficiency and realign our business and strategic priorities. For example, in 2022 and 2023, we announced several initiatives, including restructurings,\n",
      "employee layoffs, and measures to scale down our office facilities, but we cannot guarantee that they will achieve our intended results. These efforts also\n",
      "subject us to risks such as greater than anticipated costs, adverse effects on employee retention, and increased difficulty managing the scale and complexity of\n",
      "our business. For example, we could face delays or challenges with product development, other business and strategic initiatives, or legal and regulatory\n",
      "==========================================\n",
      "compliance, as well as other disruptions to our operations. As our organization continues to evolve, and we are required to implement and adapt complex\n",
      "organizational management structures, we may find it difficult to maintain the benefits of our corporate culture, including our ability to quickly develop and\n",
      "launch new and innovative products. Any of these developments could negatively affect our business, reputation, or financial results.\n",
      "We have significant international operations, which subject us to increased business, economic, and legal risks that could affect our financial results.\n",
      "We have significant international operations. We currently make Facebook available in more than 100 different languages, and we have offices or data\n",
      "centers in approximately 40 different countries. We may enter new international regions where we have limited or no experience in marketing, selling, and\n",
      "==========================================\n",
      "Table of Contents\n",
      "•volatility in the size of our user base and user engagement;\n",
      "•delays in product development or releases, or reductions in manufacturing production and sales of consumer hardware, as a result of inventory\n",
      "shortages, supply chain or labor shortages;\n",
      "•significant volatility and disruption of global financial markets, which could cause fluctuations in currency exchange rates or negatively impact our\n",
      "ability to access capital in the future;\n",
      "•illnesses to key employees, or a significant portion of our workforce, which may result in inefficiencies, delays, and disruptions in our business; and\n",
      "•increased volatility and uncertainty in the financial projections we use as the basis for estimates used in our financial statements.\n",
      "Any of these developments may adversely affect our business, harm our reputation, or result in legal or regulatory actions against us.\n",
      "==========================================\n",
      "We currently depend on the continued services and performance of our key personnel, including Mark Zuckerberg. Mr. Zuckerberg and certain other\n",
      "members of management participate in various high-risk activities, such as combat sports, extreme sports, and recreational aviation, which carry the risk of\n",
      "serious injury and death. If Mr. Zuckerberg were to become unavailable for any reason, there could be a material adverse impact on our operations. The loss of\n",
      "other key personnel, including members of management as well as key engineering, product development, marketing, and sales personnel, could also disrupt\n",
      "our operations and have an adverse effect on our business.\n",
      "In addition, we cannot guarantee we will continue to attract and retain the personnel we need to maintain our competitive position. In particular, we\n",
      "expect to continue to face significant challenges in hiring specialized technical personnel, particularly senior engineering talent, whether as a result of\n",
      "==========================================\n",
      "rates;\n",
      "•the incurrence of indebtedness or our ability to refinance existing indebtedness on acceptable terms;\n",
      "•changes in U.S. generally accepted accounting principles; and\n",
      "•changes in regional or global business, macroeconomic, or geopolitical conditions, which may impact the other factors described above.\n",
      "Unfavorable media coverage negatively affects our business.\n",
      "We receive a high degree of media coverage around the world. Our reputation has been, and could in the future be, adversely affected by unfavorable\n",
      "publicity regarding, for example, our privacy practices, advertising policies, product decisions, product quality, litigation or regulatory activity, government\n",
      "surveillance, the actions of our advertisers, the actions of our developers whose products are integrated with our products, the use of our products or services\n",
      "for illicit or objectionable ends, the substance or enforcement of our community standards, terms of service, or other policies, the actions of our users, the\n",
      "==========================================\n",
      "•acquisitions or consolidation within our industry, which may result in more formidable competitors;\n",
      "•our ability to attract, retain, and motivate talented employees, particularly software engineers, designers, and product managers;\n",
      "•our ability to cost-effectively manage our operations; and\n",
      "•our reputation and brand strength relative to those of our competitors.\n",
      "If we are not able to compete effectively, our user base, level of user engagement, and ability to deliver ad impressions may decrease, we may become\n",
      "less attractive to developers and marketers, and our revenue and results of operations may be materially and adversely affected.\n",
      "Our financial results will fluctuate from quarter to quarter and are difficult to predict.\n",
      "Our quarterly financial results have fluctuated in the past and will fluctuate in the future. Additionally, we have a limited operating history with the\n",
      "==========================================\n",
      "proceedings in some instances on terms that are unfavorable to us. In addition, we may become subject to orders or consent decrees imposed by government or\n",
      "regulatory authorities. Any such developments could cause us to incur substantial costs, expose us to civil and criminal liability (including liability for our\n",
      "personnel) or penalties (including substantial monetary remedies), interrupt or require us to change our business practices in a manner materially adverse to our\n",
      "business (including changes to our products and services or user data practices), result in negative publicity and reputational harm, divert resources and the\n",
      "time and attention of management from our business, or subject us to other structural or behavioral remedies that adversely affect our business. We have\n",
      "experienced such outcomes to varying degrees in the past, and we expect to continue to face a challenging litigation and regulatory environment, including in\n",
      "==========================================\n"
     ]
    }
   ],
   "source": [
    "retrieved_documents1 = results['documents'][0]\n",
    "\n",
    "for document in retrieved_documents1:\n",
    "    print(document)\n",
    "    print('==========================================')"
   ]
  },
  {
   "cell_type": "markdown",
   "id": "3531f511",
   "metadata": {},
   "source": [
    "### Visualize Query & Retrieved Docs"
   ]
  },
  {
   "cell_type": "code",
   "execution_count": 15,
   "id": "d5fd19b8",
   "metadata": {},
   "outputs": [
    {
     "name": "stderr",
     "output_type": "stream",
     "text": [
      "100%|█████████████████████████████████████████████████████████████████████████████████████| 1/1 [00:00<00:00,  2.30it/s]\n",
      "100%|███████████████████████████████████████████████████████████████████████████████████| 10/10 [00:04<00:00,  2.06it/s]\n"
     ]
    }
   ],
   "source": [
    "retrieved_docs_embeddings = results['embeddings'][0]\n",
    "original_query_embeddings = distilroberta([query])\n",
    "\n",
    "projected_original_query_embedding = project_embeddings(original_query_embeddings, umap_projector)\n",
    "projected_retrieved_embeddings = project_embeddings(retrieved_docs_embeddings, umap_projector)"
   ]
  },
  {
   "cell_type": "code",
   "execution_count": 16,
   "id": "98c91a16",
   "metadata": {},
   "outputs": [
    {
     "data": {
      "image/png": "[encoded data removed]",
      "text/plain": [
       "<Figure size 640x480 with 1 Axes>"
      ]
     },
     "metadata": {},
     "output_type": "display_data"
    }
   ],
   "source": [
    "import matplotlib.pyplot as plt\n",
    "\n",
    "plt.figure()\n",
    "plt.scatter(projected_dataset_embeddings[:, 0], projected_dataset_embeddings[:, 1], s=15, c=\"grey\", label=\"Original Dataset\")\n",
    "plt.scatter(projected_original_query_embedding[:, 0], projected_original_query_embedding[:, 1], s=40, c=\"red\", label=\"Original Query\")\n",
    "plt.scatter(projected_retrieved_embeddings[:, 0], projected_retrieved_embeddings[:, 1], s=50, marker=\"x\", c=\"lime\", label=\"Retrieved Documents\")\n",
    "plt.gca().set_aspect('equal', 'datalim')\n",
    "plt.title('Projected Embeddings')\n",
    "plt.legend(loc=\"best\");\n",
    "plt.axis('off');"
   ]
  },
  {
   "cell_type": "markdown",
   "id": "a524cae0",
   "metadata": {},
   "source": [
    "## 4. HyDE (Hypothetical Document Embeddings)\n",
    "\n"
   ]
  },
  {
   "cell_type": "code",
   "execution_count": 17,
   "id": "db7867ca",
   "metadata": {},
   "outputs": [
    {
     "name": "stdout",
     "output_type": "stream",
     "text": [
      "**Risk Factors**\n",
      "\n",
      "As with any business, we face a number of risks that could impact our financial condition, results of operations, and overall success. Some of the key risk factors include:\n",
      "\n",
      "* **Macroeconomic Risks**: Economic downturns, recession, or changes in government policies could lead to reduced consumer spending, decreased demand for our products, and increased competition.\n",
      "* **Industry Competition**: The industry in which we operate is highly competitive, and we face competition from established brands and new entrants. If we are unable to compete effectively, our market share and revenue could decline.\n",
      "* **Regulatory Risks**: Changes in laws, regulations, or industry standards could require us to make significant investments in new technologies or processes, potentially disrupting our operations and increasing costs.\n",
      "* **Supply Chain Disruptions**: Disruptions to our supply chain, such as natural disasters, transportation disruptions, or supplier insolvency, could impact our ability to deliver products to customers and meet demand.\n",
      "* **Cybersecurity Risks**: As a company that relies on technology, we are vulnerable to cyber threats and data breaches. A significant cybersecurity incident could compromise our data, disrupt our operations, and damage our reputation.\n",
      "* **Geopolitical Risks**: Trade tensions, tariffs, and other geopolitical events could impact our ability to source materials, manufacture products, and distribute our goods globally.\n",
      "\n",
      "We continually monitor and assess these risks and take steps to mitigate their impact on our business. However, some risks may be outside of our control, and their occurrence could have a material adverse effect on our financial condition and results of operations.\n"
     ]
    }
   ],
   "source": [
    "def generate_answer(query, model=\"llama-3.1-70b-versatile\"):\n",
    "    messages = [\n",
    "        {\n",
    "            \"role\": \"system\",\n",
    "            \"content\": \"You are a helpful expert financial research assistant. Provide an example brief answer to the given question, that might be found in a document like an annual report. \"\n",
    "        },\n",
    "        {\"role\": \"user\", \"content\": query}\n",
    "    ] \n",
    "\n",
    "    response = client.chat.completions.create(\n",
    "        model=model,\n",
    "        messages=messages,\n",
    "    )\n",
    "    content = response.choices[0].message.content\n",
    "    return content\n",
    "\n",
    "generated_answer = generate_answer(query)\n",
    "\n",
    "print(generated_answer)"
   ]
  },
  {
   "cell_type": "code",
   "execution_count": 18,
   "id": "b829b604",
   "metadata": {},
   "outputs": [],
   "source": [
    "answer_embeddings = distilroberta([generated_answer])"
   ]
  },
  {
   "cell_type": "code",
   "execution_count": 19,
   "id": "85f02736",
   "metadata": {
    "scrolled": true
   },
   "outputs": [
    {
     "name": "stdout",
     "output_type": "stream",
     "text": [
      "Summary Risk Factors\n",
      "Our business is subject to a number of risks, including risks that may prevent us from achieving our business objectives or may adversely affect our\n",
      "business, financial condition, results of operations, cash flows, and prospects. These risks are discussed more fully below and include, but are not limited to,\n",
      "risks related to:\n",
      "Risks Related to Our Product Offerings\n",
      "•our ability to add and retain users and maintain levels of user engagement with our products;\n",
      "•the loss of, or reduction in spending by, our marketers;\n",
      "•reduced availability of data signals used by our ad targeting and measurement tools;\n",
      "•ineffective operation with mobile operating systems or changes in our relationships with mobile operating system partners;\n",
      "•failure of our new products, or changes to our existing products, to attract or retain users or generate revenue;\n",
      "Risks Related to Our Business Operations and Financial Results\n",
      "•our ability to compete effectively;\n",
      "==========================================\n",
      "existing products or services, delay the introduction of future products or services, or otherwise adversely affect our business and financial results.\n",
      "We have experienced, and could experience in the future, difficulties in building and operating key portions of our technical infrastructure.\n",
      "We have designed and built our own data centers and key portions of our technical infrastructure through which we serve our products, and we plan to\n",
      "continue to significantly expand the size of our infrastructure primarily through data centers, subsea and terrestrial fiber optic cable systems, and other projects.\n",
      "The infrastructure expansion we are undertaking is complex and involves projects in multiple locations around the world, including in developing regions that\n",
      "expose us to increased risks relating to anti-corruption compliance, trade compliance, and political challenges, among others. We have changed, suspended, and\n",
      "==========================================\n",
      "criminal liability (including liability for our personnel) or penalties (including substantial monetary remedies), interrupt or require us to change our business\n",
      "practices in a manner materially adverse to our business (including changes to our products or user data practices), result in negative publicity and reputational\n",
      "harm, divert resources and the time and attention of management from our business, or subject us to other structural or behavioral remedies that adversely\n",
      "affect our business.\n",
      "For additional information about government regulation applicable to our business, see Part I, Item 1A, \"Risk Factors\" in this Annual Report on Form\n",
      "10-K.\n",
      "Human Capital\n",
      "At Meta, everything we do is about helping people feel connected and closer, and we are proud of our unique company culture.\n",
      "We had a global workforce of 67,317 employees as of December 31, 2023, and we have offices in approximately 90 cities around the world. We are\n",
      "==========================================\n",
      "we have not experienced undetected cybersecurity incidents. For additional information about these risks, see Part I, Item 1A, \"Risk Factors\" in this Annual\n",
      "Report on Form 10-K.\n",
      "Item 2.Properties\n",
      "Our corporate headquarters are located in Menlo Park, California. As of December 31, 2023, we owned and leased approximately 10 million square feet\n",
      "of office and building space for our corporate headquarters and in the surrounding areas, which included approximately three million square feet of unoccupied\n",
      "office and building space that we plan to either sublease, early terminate, or abandon related to our facilities consolidation restructuring efforts. We also owned\n",
      "and leased approximately 62 acres of land to be developed to accommodate anticipated future growth.\n",
      "In addition, we have offices in approximately 90 cities across North America, Europe, the Middle East, Africa, Asia Pacific, and Latin America. We also\n",
      "own 21 data center locations globally.\n",
      "==========================================\n",
      "Table of Contents\n",
      "•volatility in the size of our user base and user engagement;\n",
      "•delays in product development or releases, or reductions in manufacturing production and sales of consumer hardware, as a result of inventory\n",
      "shortages, supply chain or labor shortages;\n",
      "•significant volatility and disruption of global financial markets, which could cause fluctuations in currency exchange rates or negatively impact our\n",
      "ability to access capital in the future;\n",
      "•illnesses to key employees, or a significant portion of our workforce, which may result in inefficiencies, delays, and disruptions in our business; and\n",
      "•increased volatility and uncertainty in the financial projections we use as the basis for estimates used in our financial statements.\n",
      "Any of these developments may adversely affect our business, harm our reputation, or result in legal or regulatory actions against us.\n",
      "==========================================\n",
      "compliance, as well as other disruptions to our operations. As our organization continues to evolve, and we are required to implement and adapt complex\n",
      "organizational management structures, we may find it difficult to maintain the benefits of our corporate culture, including our ability to quickly develop and\n",
      "launch new and innovative products. Any of these developments could negatively affect our business, reputation, or financial results.\n",
      "We have significant international operations, which subject us to increased business, economic, and legal risks that could affect our financial results.\n",
      "We have significant international operations. We currently make Facebook available in more than 100 different languages, and we have offices or data\n",
      "centers in approximately 40 different countries. We may enter new international regions where we have limited or no experience in marketing, selling, and\n",
      "==========================================\n",
      "Table of Contents\n",
      "Risks Related to Our Business Operations and Financial Results\n",
      "Our business is highly competitive. Competition presents an ongoing threat to the success of our business.\n",
      "We compete with companies providing connection, sharing, discovery, and communication products and services to users online, as well as companies\n",
      "that sell advertising to businesses looking to reach consumers and/or develop tools and systems for managing and optimizing advertising campaigns. We face\n",
      "significant competition in every aspect of our business, including, but not limited to, companies that facilitate the ability of users to create, share, communicate,\n",
      "and discover content and information online or enable marketers to reach their existing or prospective audiences. We compete to attract, engage, and retain\n",
      "people who use our products, to attract and retain businesses that use our free or paid business and advertising services, and to attract and retain developers who\n",
      "==========================================\n",
      "We have also launched payments functionality on certain of our applications and may in the future undertake additional payments initiatives, including as part\n",
      "of our metaverse efforts, which may subject us to many of the foregoing risks and additional licensing requirements.\n",
      "Risks Related to Data, Security, Platform Integrity, and Intellectual Property\n",
      "Security breaches, improper access to or disclosure of our data or user data, other hacking and phishing attacks on our systems, or other cyber incidents\n",
      "could harm our reputation and adversely affect our business.\n",
      "Our industry is prone to cyber-attacks by third parties seeking unauthorized access to our data or users' data or to disrupt our ability to provide service.\n",
      "Our products and services involve the collection, storage, processing, and transmission of a large amount of data. Any failure to prevent or mitigate security\n",
      "==========================================\n",
      "deploying our products. Our products are generally available globally, but some or all of our products or functionality may not be available in certain regions\n",
      "due to legal and regulatory complexities. For example, several of our products are not generally available in China. We also outsource certain operational\n",
      "functions to third parties globally. If we fail to deploy, manage, or oversee our international operations successfully, our business may suffer. In addition, we are\n",
      "subject to a variety of risks inherent in doing business internationally, including:\n",
      "•political, social, or economic instability;\n",
      "•risks related to legal, regulatory, and other government scrutiny applicable to U.S. companies with sales and operations in foreign jurisdictions,\n",
      "including with respect to privacy, tax, law enforcement, content, trade compliance, supply chain, competition, consumer protection, intellectual\n",
      "property, environmental, health and safety, licensing, and infrastructure matters;\n",
      "==========================================\n",
      "Table of Contents\n",
      "disasters, power loss, terrorism, geopolitical conflict, other physical security threats, cyber-attacks, or other catastrophic events and crises. Global climate\n",
      "change could result in certain types of natural disasters occurring more frequently or with more intense effects. Any such events may result in users being\n",
      "subject to service disruptions or outages and we may not be able to recover our technical infrastructure and user data in a timely manner to restart or provide\n",
      "our services, which may adversely affect our financial results. We also have been, and may in the future be, subject to increased energy and/or other costs to\n",
      "maintain the availability or performance of our products and services in connection with any such events.\n",
      "A substantial portion of our technical infrastructure is provided by third parties. Any disruption or failure in the services we receive from these providers\n",
      "==========================================\n"
     ]
    }
   ],
   "source": [
    "results = collection.query(query_embeddings=answer_embeddings, ## query_texts=[generated_answer]\n",
    "                           n_results=10,\n",
    "                           include=['documents', 'embeddings'])\n",
    "\n",
    "retrieved_documents2 = results['documents'][0]\n",
    "\n",
    "for document in retrieved_documents2:\n",
    "    print(document)\n",
    "    print('==========================================')"
   ]
  },
  {
   "cell_type": "markdown",
   "id": "12080e7f",
   "metadata": {},
   "source": [
    "### Visualize Query, Answer & Retrieved Docs"
   ]
  },
  {
   "cell_type": "code",
   "execution_count": 20,
   "id": "8717080d",
   "metadata": {},
   "outputs": [
    {
     "name": "stderr",
     "output_type": "stream",
     "text": [
      "100%|█████████████████████████████████████████████████████████████████████████████████████| 1/1 [00:00<00:00,  2.29it/s]\n",
      "100%|█████████████████████████████████████████████████████████████████████████████████████| 1/1 [00:00<00:00,  2.31it/s]\n",
      "100%|███████████████████████████████████████████████████████████████████████████████████| 10/10 [00:04<00:00,  2.18it/s]\n"
     ]
    }
   ],
   "source": [
    "retrieved_docs_embeddings = results['embeddings'][0]\n",
    "original_query_embeddings = distilroberta([query])\n",
    "\n",
    "projected_original_query_embedding = project_embeddings(original_query_embeddings, umap_projector)\n",
    "projected_generated_answer_embedding = project_embeddings(answer_embeddings, umap_projector)\n",
    "projected_retrieved_embeddings = project_embeddings(retrieved_docs_embeddings, umap_projector)"
   ]
  },
  {
   "cell_type": "code",
   "execution_count": 21,
   "id": "305acf8f",
   "metadata": {},
   "outputs": [
    {
     "data": {
      "image/png": "[encoded data removed]",
      "text/plain": [
       "<Figure size 640x480 with 1 Axes>"
      ]
     },
     "metadata": {},
     "output_type": "display_data"
    }
   ],
   "source": [
    "import matplotlib.pyplot as plt\n",
    "\n",
    "plt.figure()\n",
    "plt.scatter(projected_dataset_embeddings[:, 0], projected_dataset_embeddings[:, 1], s=15, c=\"grey\", label=\"Original Dataset\")\n",
    "plt.scatter(projected_original_query_embedding[:, 0], projected_original_query_embedding[:, 1], s=40, c=\"red\", label=\"Original Query\")\n",
    "plt.scatter(projected_generated_answer_embedding[:, 0], projected_generated_answer_embedding[:, 1], s=40, c=\"orange\", label=\"Generated Answer\")\n",
    "plt.scatter(projected_retrieved_embeddings[:, 0], projected_retrieved_embeddings[:, 1], s=50, marker=\"x\", c=\"lime\", label=\"Retrieved Documents\")\n",
    "plt.gca().set_aspect('equal', 'datalim')\n",
    "plt.title('Projected Embeddings')\n",
    "plt.legend(loc=\"best\");\n",
    "plt.axis('off');"
   ]
  },
  {
   "cell_type": "markdown",
   "id": "194e13c4",
   "metadata": {},
   "source": [
    "## 5. HyDE (Averaging Embeddings of Multiple Answers)"
   ]
  },
  {
   "cell_type": "code",
   "execution_count": 22,
   "id": "d6e25073",
   "metadata": {},
   "outputs": [
    {
     "name": "stdout",
     "output_type": "stream",
     "text": [
      "========== Answer: 1 ============\n",
      "\n",
      "\n",
      "**Risk Factors**\n",
      "\n",
      "The company is exposed to various risks that could have a material adverse effect on our business, financial condition, and results of operations. Some of the key risk factors include:\n",
      "\n",
      "* **Market Risks**: We are exposed to fluctuations in global economic conditions, interest rates, and currency exchange rates, which could impact our revenue, profitability, and cash flows.\n",
      "* **Competition Risks**: The industry in which we operate is highly competitive, and we face competition from established players and new entrants, which could impact our market share and pricing power.\n",
      "* **Regulatory Risks**: Changes in laws, regulations, and government policies could impact our operations, increase our costs, and reduce our revenue.\n",
      "* **Operational Risks**: We are exposed to risks related to our supply chain, manufacturing processes, and information technology systems, which could impact our ability to deliver products and services to our customers.\n",
      "* **Financial Risks**: We have significant debt obligations and are exposed to risks related to our ability to refinance our debt, manage our liquidity, and meet our financial covenants.\n",
      "* **Cybersecurity Risks**: We are exposed to risks related to cyber-attacks, data breaches, and other forms of cybercrime, which could impact our operations, reputation, and customer relationships.\n",
      "\n",
      "These risk factors, among others, could have a material adverse effect on our business, financial condition, and results of operations.\n",
      "========== Answer: 2 ============\n",
      "\n",
      "\n",
      "Our company's performance and operations may be negatively affected by several risks, including:\n",
      "\n",
      "**Regulatory and Competitive Risks:** The banking industry is highly regulated and increasingly competitive, and any change in government policies or the financial markets' infrastructure can potentially undermine the efficacy and increase our risk;\n",
      "\n",
      "* geopolitical threats within home as well internationally while associated on inter-algorithm-driven social contract back or current legislative backlash where banking’s an artifact financial-ind;\n",
      "Foreign jurisdictions possess real physical tax fiscal challenge barriers relative firm valuation firm environment uncertain response key operation at on–equed policy sove problems lead problems exposure major concern has new uncertainties response plan competitive push low technology modern retail state network services regulation expansion all front information rules framework further access higher banks payment potential profit line no final decisions around Europe negative country as as situation region free possible worst turn area big Asia need credit facility pressure issue against U.CN make plan open right position local pressure retail economic social trend get balance management head central currency stronger different home model line further process quality experience knowledge track as wider point exposure core development well normal consumer have social practice overall possible central expansion U experience take last, situation problem cost weak group run worst very international relative size government Asia future for front huge decision payment will out rule much core quality one with impact has size rate small first may by position dollar down can if experience interest number potential still environment experience access control total loan same many further place help sell set technology  group turn from biggest product product but against worse push economy than social banks pay rise is point international last quality our long or open final access less further rule difficult potential main of further global period region money move wider industry foreign response now face product number development total plan could other over operation face pay on so like foreign value head access company year before result at move bad system best foreign retail balance central by process real be local large higher impact would region rule back information increase we then profit lead up impact service service management biggest exposure rule free against control year less central lead strong then also world well banks plan credit higher financial high lower information possible right potential run region issue trend Asia.\n",
      "\n",
      "***Brief Major Six Response…**,*\n",
      " Here summar: :\n",
      "\n",
      "market Economic with loan related out.\n",
      "With from tax need supply main situation normal exposure number further very normal help.\n",
      "\n",
      "Those including long exchange use small good has still model plan model technology government potential local huge huge loss head up negative core supply we total against also is than negative firm much well experience business move social relative at could of expansion exchange state decision some right economy growth global quality open weak other trend if quality other set biggest year wider problem open group market group make increase country currency central right cost on process time central year result decision year weak sell social new turn same currency. Major time before environment further possible of would strong pressure well large help like future current face well get one exposure process exposure or even money dollar product operation relative process balance possible central line potential final central economic area experience less better less much point place free face international in down local now further push state number now experience many we financial push exposure interest for central local core local before rule home  . may management possible even wider balance Asia industry higher region back by even strong cost turn government total international social profit biggest information of group worst balance result firm right face experience global real on will strong product.\n",
      "\n",
      "to :...“ that given model \n",
      "\n",
      "From situation …even product weak retail strong worse higher bigger sell wider control region credit at increase against size credit make, when social consumer help run pay risk.\n",
      "\n",
      "May pay when balance access tax technology possible can other last future potential before tax when key future also home core potential operation all no very place this set potential central worst operation total company much is region face best many large face large experience by quality market plan experience response large turn one value foreign out problem experience rule the group impact back run loan financial institution low further against or take relative then global loss like rule rate core issue difficult new quality so number retail wider tax worst currency we group further development first environment one economic final tax institution but other could trend push issue as decision control new line right possible higher lead lower on first run need with system line economy right line exposure group money normal same group Asia some free by impact economic total long well move change would better central product free process central for a institution area central information government real open pressure rule of turn increase rule group experience cost main be less huge not biggest against if open issue period management against before issue global main profit other local wider many high free help currency also issue set total still further negative line help down development result less as, home has back place when year possible plan possible further small region world retail final of size social a industry core potential situation system service region increase year international global make even run now market number access that further real against less higher very value potential on different make push pay pay government access right firm on potential economy market cost from help central access foreign quality is move problem other decision access well response right loan get. out large head also could large all risk \n",
      "\n",
      "those answer business future country core question process new total core local our push if lead less higher experience answer money group higher high of turn question foreign run set trend wider much period than by up then normal credit biggest face can social interest biggest right central international potential experience much retail social increase financial supply last best impact retail with social free with question back state plan other strong dollar money further operation has strong information we home lower open possible exposure when other face will of balance group consumer in possible large strong main many strong no strong new year social exposure would foreign worst potential growth result response further currency response relative loan tax central environment other year against on answer Asia back better face like huge as less one environment need make region  area balance increase situation future good sell long total product lead issue rule a rule place we market worst rule quality company central social potential help rule local by still number very number economy place well for example than decision global further impact be number pressure international pay economic international group set face so move Asia interest place line situation out social last difficult exposure before take experience right Asia profit at service further better against normal even all key central against negative sell bad region less institution free one free then access plan control retail global total one we firm final or current industry dollar model group control as turn less much development now information retail trend loss also information government if process time push size new when but open exposure future experience right possible problem first other run is would higher product turn management right same run final region weak plan much best biggest cost response further exchange make face right local home in right money increase down well of issue product total main help have has loan on new use take higher further move higher could first low lower access, home set environment plan credit on lead risk place group like decision balance quality other small back free operation trend central interest a back impact best back world international global that quality new head decision value against with local group rule global pay credit state large quality less for still worst number future social turn market further need worst before a money relative get also even possible information main information central country normal on worse open much final local profit face lead rate system one different increase government. retail time other foreign bigger access future further as line economic financial right is region by help product large many some by issue potential sell make very real against experience make we possible last would long well potential tax last supply currency plan result area potential can loss from well no model cost exposure potential strong question then institution well difficult problem worse rule still is biggest then big to but at may make big from lower problem new rule a need management many social market place difficult best result even set lead value social our if environment some many big with trend very could also take time could if main this firm many financial key institution bad as large issue get exposure may balance our large small so for the final loss or also business service balance business now operation place size home weak impact face at like low answer place be tax open bigger still still future biggest with business can our firm or same better firm when institution the answer supply need up economic growth as answer or would same answer or up best.\n",
      "========== Answer: 3 ============\n",
      "\n",
      "\n",
      "**Risk Factors**\n",
      "\n",
      "Our company is exposed to various risks that could potentially impact our financial performance, operations, and overall success. Some of the key risk factors include:\n",
      "\n",
      "* **Market Risks**: Fluctuations in global market conditions, including changes in interest rates, commodity prices, and currency exchange rates, may affect our revenue and profitability.\n",
      "* **Competition Risks**: Intensifying competition in our industry may lead to reduced market share, pricing pressure, and decreased revenue.\n",
      "* **Regulatory Risks**: Changes in laws, regulations, or government policies may impact our operations, increase compliance costs, and affect our ability to operate in certain markets.\n",
      "* **Operational Risks**: Disruptions to our supply chain, manufacturing processes, or technology systems may impact our ability to deliver products and services to customers.\n",
      "* **Financial Risks**: Our reliance on debt financing and potential volatility in financial markets may increase our borrowing costs and impact our ability to access capital.\n",
      "* **Cybersecurity Risks**: The increasing threat of cyber-attacks and data breaches may compromise our systems, data, and reputation.\n",
      "* **Geopolitical Risks**: Global events, such as trade wars, pandemics, or natural disasters, may disrupt our operations, supply chain, and customer demand.\n",
      "\n",
      "We actively monitor and manage these risks through our enterprise risk management framework, which includes regular assessments, mitigation strategies, and contingency planning.\n",
      "========== Answer: 4 ============\n",
      "\n",
      "\n",
      "**Risk Factors**\n",
      "\n",
      "Our company is exposed to various risks that could potentially impact our financial performance, operations, and reputation. Some of the key risk factors include:\n",
      "\n",
      "* **Market Risks**: Fluctuations in global economic conditions, changes in government regulations, and shifts in consumer demand may impact our sales and revenue growth.\n",
      "* **Competition Risks**: Intensifying competition in our industry may lead to pricing pressure, reduced market share, and decreased profitability.\n",
      "* **Operational Risks**: Disruptions to our supply chain, manufacturing processes, or logistics may result in delays, increased costs, and damage to our reputation.\n",
      "* **Financial Risks**: Changes in interest rates, foreign exchange rates, and commodity prices may impact our financial performance, including our ability to access capital and manage debt.\n",
      "* **Regulatory Risks**: Non-compliance with evolving regulatory requirements, including data protection and environmental regulations, may result in fines, penalties, and reputational damage.\n",
      "* **Cybersecurity Risks**: Breaches of our information systems or data may compromise sensitive information, disrupt operations, and damage our reputation.\n",
      "\n",
      "We actively monitor and manage these risks through our enterprise risk management framework, which includes regular risk assessments, mitigation strategies, and contingency planning.\n",
      "========== Answer: 5 ============\n",
      "\n",
      "\n",
      "**Risk Factors**\n",
      "\n",
      "The company is exposed to various risks that could have a material adverse effect on our business, financial condition, and results of operations. The following are some of the key risk factors that we face:\n",
      "\n",
      "* **Market Risks**: We are susceptible to fluctuations in global market conditions, including changes in interest rates, commodity prices, and foreign exchange rates, which could negatively impact our revenue and profitability.\n",
      "* **Operational Risks**: We rely on complex systems and technology to operate our business, and any disruptions or failures could result in significant losses and damage to our reputation.\n",
      "* **Compliance and Regulatory Risks**: We are subject to various laws and regulations globally, and failure to comply with these regulations could result in fines, penalties, and reputational damage.\n",
      "* **Cybersecurity Risks**: We are vulnerable to cybersecurity threats, including data breaches and cyber-attacks, which could compromise sensitive information and disrupt our operations.\n",
      "* **Supply Chain Risks**: We rely on third-party suppliers to provide us with goods and services, and any disruptions to our supply chain could impact our ability to deliver products and services to our customers.\n",
      "* **Competition Risks**: We operate in highly competitive markets, and failure to innovate and adapt to changing market conditions could result in loss of market share and revenue.\n",
      "\n",
      "These risk factors are not exhaustive, and we may face additional risks that are not currently known to us or that we currently consider immaterial.\n"
     ]
    }
   ],
   "source": [
    "generated_answers = [generate_answer(query) for i in range(5)]\n",
    "\n",
    "for idx, answer in enumerate(generated_answers, start=1):\n",
    "    print(f\"========== Answer: {idx} ============\\n\\n\")\n",
    "    print(answer)"
   ]
  },
  {
   "cell_type": "code",
   "execution_count": 23,
   "id": "89fbc84a",
   "metadata": {},
   "outputs": [
    {
     "data": {
      "text/plain": [
       "(5, 768)"
      ]
     },
     "execution_count": 23,
     "metadata": {},
     "output_type": "execute_result"
    }
   ],
   "source": [
    "import numpy as np\n",
    "\n",
    "answers_embeddings = distilroberta(generated_answers)\n",
    "\n",
    "answers_embeddings = np.array(answers_embeddings)\n",
    "\n",
    "answers_embeddings.shape"
   ]
  },
  {
   "cell_type": "code",
   "execution_count": 24,
   "id": "d0fe4679",
   "metadata": {},
   "outputs": [
    {
     "data": {
      "text/plain": [
       "(768,)"
      ]
     },
     "execution_count": 24,
     "metadata": {},
     "output_type": "execute_result"
    }
   ],
   "source": [
    "avg_answers_embeddings = answers_embeddings.mean(axis=0)\n",
    "\n",
    "avg_answers_embeddings.shape"
   ]
  },
  {
   "cell_type": "code",
   "execution_count": 25,
   "id": "9ece3749",
   "metadata": {},
   "outputs": [
    {
     "name": "stdout",
     "output_type": "stream",
     "text": [
      "Summary Risk Factors\n",
      "Our business is subject to a number of risks, including risks that may prevent us from achieving our business objectives or may adversely affect our\n",
      "business, financial condition, results of operations, cash flows, and prospects. These risks are discussed more fully below and include, but are not limited to,\n",
      "risks related to:\n",
      "Risks Related to Our Product Offerings\n",
      "•our ability to add and retain users and maintain levels of user engagement with our products;\n",
      "•the loss of, or reduction in spending by, our marketers;\n",
      "•reduced availability of data signals used by our ad targeting and measurement tools;\n",
      "•ineffective operation with mobile operating systems or changes in our relationships with mobile operating system partners;\n",
      "•failure of our new products, or changes to our existing products, to attract or retain users or generate revenue;\n",
      "Risks Related to Our Business Operations and Financial Results\n",
      "•our ability to compete effectively;\n",
      "==========================================\n",
      "criminal liability (including liability for our personnel) or penalties (including substantial monetary remedies), interrupt or require us to change our business\n",
      "practices in a manner materially adverse to our business (including changes to our products or user data practices), result in negative publicity and reputational\n",
      "harm, divert resources and the time and attention of management from our business, or subject us to other structural or behavioral remedies that adversely\n",
      "affect our business.\n",
      "For additional information about government regulation applicable to our business, see Part I, Item 1A, \"Risk Factors\" in this Annual Report on Form\n",
      "10-K.\n",
      "Human Capital\n",
      "At Meta, everything we do is about helping people feel connected and closer, and we are proud of our unique company culture.\n",
      "We had a global workforce of 67,317 employees as of December 31, 2023, and we have offices in approximately 90 cities around the world. We are\n",
      "==========================================\n",
      "Table of Contents\n",
      "Risks Related to Our Business Operations and Financial Results\n",
      "Our business is highly competitive. Competition presents an ongoing threat to the success of our business.\n",
      "We compete with companies providing connection, sharing, discovery, and communication products and services to users online, as well as companies\n",
      "that sell advertising to businesses looking to reach consumers and/or develop tools and systems for managing and optimizing advertising campaigns. We face\n",
      "significant competition in every aspect of our business, including, but not limited to, companies that facilitate the ability of users to create, share, communicate,\n",
      "and discover content and information online or enable marketers to reach their existing or prospective audiences. We compete to attract, engage, and retain\n",
      "people who use our products, to attract and retain businesses that use our free or paid business and advertising services, and to attract and retain developers who\n",
      "==========================================\n",
      "existing products or services, delay the introduction of future products or services, or otherwise adversely affect our business and financial results.\n",
      "We have experienced, and could experience in the future, difficulties in building and operating key portions of our technical infrastructure.\n",
      "We have designed and built our own data centers and key portions of our technical infrastructure through which we serve our products, and we plan to\n",
      "continue to significantly expand the size of our infrastructure primarily through data centers, subsea and terrestrial fiber optic cable systems, and other projects.\n",
      "The infrastructure expansion we are undertaking is complex and involves projects in multiple locations around the world, including in developing regions that\n",
      "expose us to increased risks relating to anti-corruption compliance, trade compliance, and political challenges, among others. We have changed, suspended, and\n",
      "==========================================\n",
      "compliance, as well as other disruptions to our operations. As our organization continues to evolve, and we are required to implement and adapt complex\n",
      "organizational management structures, we may find it difficult to maintain the benefits of our corporate culture, including our ability to quickly develop and\n",
      "launch new and innovative products. Any of these developments could negatively affect our business, reputation, or financial results.\n",
      "We have significant international operations, which subject us to increased business, economic, and legal risks that could affect our financial results.\n",
      "We have significant international operations. We currently make Facebook available in more than 100 different languages, and we have offices or data\n",
      "centers in approximately 40 different countries. We may enter new international regions where we have limited or no experience in marketing, selling, and\n",
      "==========================================\n",
      "We have also launched payments functionality on certain of our applications and may in the future undertake additional payments initiatives, including as part\n",
      "of our metaverse efforts, which may subject us to many of the foregoing risks and additional licensing requirements.\n",
      "Risks Related to Data, Security, Platform Integrity, and Intellectual Property\n",
      "Security breaches, improper access to or disclosure of our data or user data, other hacking and phishing attacks on our systems, or other cyber incidents\n",
      "could harm our reputation and adversely affect our business.\n",
      "Our industry is prone to cyber-attacks by third parties seeking unauthorized access to our data or users' data or to disrupt our ability to provide service.\n",
      "Our products and services involve the collection, storage, processing, and transmission of a large amount of data. Any failure to prevent or mitigate security\n",
      "==========================================\n",
      "Table of Contents\n",
      "•volatility in the size of our user base and user engagement;\n",
      "•delays in product development or releases, or reductions in manufacturing production and sales of consumer hardware, as a result of inventory\n",
      "shortages, supply chain or labor shortages;\n",
      "•significant volatility and disruption of global financial markets, which could cause fluctuations in currency exchange rates or negatively impact our\n",
      "ability to access capital in the future;\n",
      "•illnesses to key employees, or a significant portion of our workforce, which may result in inefficiencies, delays, and disruptions in our business; and\n",
      "•increased volatility and uncertainty in the financial projections we use as the basis for estimates used in our financial statements.\n",
      "Any of these developments may adversely affect our business, harm our reputation, or result in legal or regulatory actions against us.\n",
      "==========================================\n",
      "we have not experienced undetected cybersecurity incidents. For additional information about these risks, see Part I, Item 1A, \"Risk Factors\" in this Annual\n",
      "Report on Form 10-K.\n",
      "Item 2.Properties\n",
      "Our corporate headquarters are located in Menlo Park, California. As of December 31, 2023, we owned and leased approximately 10 million square feet\n",
      "of office and building space for our corporate headquarters and in the surrounding areas, which included approximately three million square feet of unoccupied\n",
      "office and building space that we plan to either sublease, early terminate, or abandon related to our facilities consolidation restructuring efforts. We also owned\n",
      "and leased approximately 62 acres of land to be developed to accommodate anticipated future growth.\n",
      "In addition, we have offices in approximately 90 cities across North America, Europe, the Middle East, Africa, Asia Pacific, and Latin America. We also\n",
      "own 21 data center locations globally.\n",
      "==========================================\n",
      "Table of Contents\n",
      "Item 1A.Risk Factors\n",
      "Certain factors may have a material adverse effect on our business, financial condition, and results of operations. You should consider carefully the risks and\n",
      "uncertainties described below, in addition to other information contained in this Annual Report on Form 10-K, including our consolidated financial statements\n",
      "and related notes. The risks and uncertainties described below are not the only ones we face. Additional risks and uncertainties that we are unaware of, or that\n",
      "we currently believe are not material, may also become important factors that adversely affect our business. If any of the following risks actually occurs, our\n",
      "business, financial condition, results of operations, and future prospects could be materially and adversely affected. In that event, the trading price of our\n",
      "Class A common stock could decline, and you could lose part or all of your investment.\n",
      "Summary Risk Factors\n",
      "==========================================\n",
      "deploying our products. Our products are generally available globally, but some or all of our products or functionality may not be available in certain regions\n",
      "due to legal and regulatory complexities. For example, several of our products are not generally available in China. We also outsource certain operational\n",
      "functions to third parties globally. If we fail to deploy, manage, or oversee our international operations successfully, our business may suffer. In addition, we are\n",
      "subject to a variety of risks inherent in doing business internationally, including:\n",
      "•political, social, or economic instability;\n",
      "•risks related to legal, regulatory, and other government scrutiny applicable to U.S. companies with sales and operations in foreign jurisdictions,\n",
      "including with respect to privacy, tax, law enforcement, content, trade compliance, supply chain, competition, consumer protection, intellectual\n",
      "property, environmental, health and safety, licensing, and infrastructure matters;\n",
      "==========================================\n"
     ]
    }
   ],
   "source": [
    "results = collection.query(query_embeddings=avg_answers_embeddings.reshape(1,-1),\n",
    "                           n_results=10,\n",
    "                           include=['documents', 'embeddings'])\n",
    "\n",
    "retrieved_documents3 = results['documents'][0]\n",
    "\n",
    "for document in retrieved_documents3:\n",
    "    print(document)\n",
    "    print('==========================================')"
   ]
  },
  {
   "cell_type": "code",
   "execution_count": 26,
   "id": "936236db",
   "metadata": {},
   "outputs": [
    {
     "name": "stderr",
     "output_type": "stream",
     "text": [
      "100%|█████████████████████████████████████████████████████████████████████████████████████| 1/1 [00:00<00:00,  2.11it/s]\n",
      "100%|█████████████████████████████████████████████████████████████████████████████████████| 5/5 [00:02<00:00,  2.28it/s]\n",
      "100%|█████████████████████████████████████████████████████████████████████████████████████| 1/1 [00:00<00:00,  1.35it/s]\n",
      "100%|███████████████████████████████████████████████████████████████████████████████████| 10/10 [00:04<00:00,  2.07it/s]\n"
     ]
    }
   ],
   "source": [
    "retrieved_docs_embeddings = results['embeddings'][0]\n",
    "original_query_embeddings = distilroberta([query])\n",
    "\n",
    "projected_original_query_embedding = project_embeddings(original_query_embeddings, umap_projector)\n",
    "projected_generated_answers_embedding = project_embeddings(answers_embeddings, umap_projector)\n",
    "projected_avg_answers_embedding = project_embeddings(avg_answers_embeddings.reshape(1,-1), umap_projector)\n",
    "projected_retrieved_embeddings = project_embeddings(retrieved_docs_embeddings, umap_projector)"
   ]
  },
  {
   "cell_type": "code",
   "execution_count": 27,
   "id": "6e2e3c13",
   "metadata": {},
   "outputs": [
    {
     "data": {
      "image/png": "[encoded data removed]",
      "text/plain": [
       "<Figure size 640x480 with 1 Axes>"
      ]
     },
     "metadata": {},
     "output_type": "display_data"
    }
   ],
   "source": [
    "import matplotlib.pyplot as plt\n",
    "\n",
    "plt.figure()\n",
    "plt.scatter(projected_dataset_embeddings[:, 0], projected_dataset_embeddings[:, 1], s=15, c=\"grey\", label=\"Original Dataset\")\n",
    "plt.scatter(projected_original_query_embedding[:, 0], projected_original_query_embedding[:, 1], s=40, c=\"red\", label=\"Original Query\")\n",
    "plt.scatter(projected_generated_answers_embedding[:, 0], projected_generated_answers_embedding[:, 1], s=40, c=\"orange\", label=\"Generated Answers\")\n",
    "plt.scatter(projected_avg_answers_embedding[:, 0], projected_avg_answers_embedding[:, 1], s=40, c=\"purple\", label=\"Avg. Generated Answers\")\n",
    "plt.scatter(projected_retrieved_embeddings[:, 0], projected_retrieved_embeddings[:, 1], s=50, marker=\"x\", c=\"lime\", label=\"Retrieved Documents\")\n",
    "plt.gca().set_aspect('equal', 'datalim')\n",
    "plt.title('Projected Embeddings')\n",
    "plt.legend(loc=\"best\");\n",
    "plt.axis('off');"
   ]
  },
  {
   "cell_type": "markdown",
   "id": "ef93c1ea",
   "metadata": {},
   "source": [
    "## 6. Build RAG"
   ]
  },
  {
   "cell_type": "code",
   "execution_count": 28,
   "id": "f6bc9b4a",
   "metadata": {},
   "outputs": [],
   "source": [
    "def rag(query, retrieved_documents, model=\"llama-3.1-70b-versatile\"):\n",
    "    information = \"\\n\\n\".join(retrieved_documents)\n",
    "\n",
    "    messages = [\n",
    "        {\n",
    "            \"role\": \"system\",\n",
    "            \"content\": \"You are an expert financial research assistant. Your users are asking questions about information contained in an annual report.\"\n",
    "            \"You will be given the user's query, and the relevant information from the annual report. Answer the user's question using only this information.\"\n",
    "        },\n",
    "        {\"role\": \"user\", \"content\": f\"Question: {query}. \\n Information: {information}\"}\n",
    "    ]\n",
    "    \n",
    "    response = client.chat.completions.create(\n",
    "        model=model,\n",
    "        messages=messages,\n",
    "    )\n",
    "    content = response.choices[0].message.content\n",
    "    return content"
   ]
  },
  {
   "cell_type": "markdown",
   "id": "5dea0c5d",
   "metadata": {},
   "source": [
    "### 6.1 Simple RAG"
   ]
  },
  {
   "cell_type": "code",
   "execution_count": 32,
   "id": "eae1f39d",
   "metadata": {},
   "outputs": [
    {
     "name": "stdout",
     "output_type": "stream",
     "text": [
      "The risk factors for the company can be summarized as follows:\n",
      "\n",
      "1. Risks related to product offerings: \n",
      "   - Losing users or reducing user engagement\n",
      "   - Losing or reduction in spending by marketers\n",
      "   - Reduced availability of data signals for ad targeting and measurement tools\n",
      "   - Ineffective operation with mobile operating systems or changes in relationships with mobile operating system partners\n",
      "   - Failure of new products or changes to existing products to attract or retain users or generate revenue\n",
      "\n",
      "2. Risks related to business operations and financial results:\n",
      "   - Inability to compete effectively\n",
      "   - Government regulation and criminal liability\n",
      "   - Challenges in managing global operations, including economic, legal, and business risks\n",
      "   - Human capital risks, including loss of key personnel and challenges in attracting and retaining talent\n",
      "   - Unfavorable media coverage affecting the business\n",
      "\n",
      "3. Risks related to financials and management:\n",
      "   - Volatility in user base and user engagement\n",
      "   - Delays in product development or releases\n",
      "   - Global financial market volatility affecting currency exchange rates or access to capital\n",
      "   - Illnesses to key employees or a significant portion of the workforce\n",
      "   - Increased volatility and uncertainty in financial projections\n",
      "\n",
      "4. Risks related to management and personnel:\n",
      "   - Dependence on key personnel, including Mark Zuckerberg\n",
      "   - Challenges in attracting and retaining specialized technical personnel\n",
      "   - Potential for unfavorable outcomes in litigation and regulatory proceedings\n"
     ]
    }
   ],
   "source": [
    "output = rag(query=query, retrieved_documents=retrieved_documents1)\n",
    "\n",
    "print(output)"
   ]
  },
  {
   "cell_type": "markdown",
   "id": "bddb32cd",
   "metadata": {},
   "source": [
    "### 6.2 HyDE "
   ]
  },
  {
   "cell_type": "code",
   "execution_count": 33,
   "id": "50b9735f",
   "metadata": {},
   "outputs": [
    {
     "name": "stdout",
     "output_type": "stream",
     "text": [
      "The company faces a number of risk factors, including:\n",
      "\n",
      "Risks Related to Product Offerings:\n",
      "\n",
      "1. Ability to add and retain users and maintain levels of user engagement with products.\n",
      "2. Loss of, or reduction in spending by, marketers.\n",
      "3. Reduced availability of data signals used by ad targeting and measurement tools.\n",
      "4. Ineffective operation with mobile operating systems or changes in relationships with mobile operating system partners.\n",
      "5. Failure of new products, or changes to existing products, to attract or retain users or generate revenue.\n",
      "\n",
      "Risks Related to Business Operations and Financial Results:\n",
      "\n",
      "1. Ability to compete effectively.\n",
      "2. Volatility in the size of the user base and user engagement.\n",
      "3. Delays in product development or releases, or reductions in manufacturing production and sales of consumer hardware.\n",
      "4. Significant volatility and disruption of global financial markets.\n",
      "5. Illnesses to key employees, or a significant portion of the workforce, which may result in inefficiencies, delays, and disruptions in the business.\n",
      "\n",
      "Risks Related to Data, Security, Platform Integrity, and Intellectual Property:\n",
      "\n",
      "1. Security breaches, improper access to or disclosure of data or user data, other hacking and phishing attacks on systems, or other cyber incidents.\n",
      "2. Failure to prevent or mitigate security breaches.\n",
      "\n",
      "Risks Related to International Operations:\n",
      "\n",
      "1. Political, social, or economic instability.\n",
      "2. Risks related to legal, regulatory, and other government scrutiny applicable to U.S. companies with sales and operations in foreign jurisdictions.\n",
      "3. Natural disasters, power loss, terrorism, geopolitical conflict, other physical security threats, cyber-attacks, or other catastrophic events and crises.\n",
      "\n",
      "Other Risks:\n",
      "\n",
      "1. Disruption or failure in the services received from third-party providers.\n",
      "2. Increased energy and/or other costs to maintain the availability or performance of products and services in connection with any events.\n",
      "3. Compliance with anti-corruption, trade compliance, and other regulations.\n",
      "4. Negative publicity and reputational harm.\n"
     ]
    }
   ],
   "source": [
    "output = rag(query=query, retrieved_documents=retrieved_documents2)\n",
    "\n",
    "print(output)"
   ]
  },
  {
   "cell_type": "markdown",
   "id": "627e9d66",
   "metadata": {},
   "source": [
    "### 6.3 HyDE Averaged Embeddings"
   ]
  },
  {
   "cell_type": "code",
   "execution_count": 34,
   "id": "bb5e6b7b",
   "metadata": {},
   "outputs": [
    {
     "name": "stdout",
     "output_type": "stream",
     "text": [
      "Based on the information provided, the risk factors for the company include:\n",
      "\n",
      "1. Risks related to product offerings, such as:\n",
      "   - Ability to add and retain users and maintain levels of user engagement\n",
      "   - Loss of or reduction in spending by marketers\n",
      "   - Reduced availability of data signals used by ad targeting and measurement tools\n",
      "   - Ineffective operation with mobile operating systems or changes in relationships with mobile operating system partners\n",
      "   - Failure of new products to attract or retain users or generate revenue\n",
      "\n",
      "2. Risks related to business operations and financial results, such as:\n",
      "   - Ability to compete effectively\n",
      "   - Impact of government regulation and scrutiny\n",
      "   - Criminal liability or penalties, including substantial monetary remedies\n",
      "   - Negative publicity and reputational harm\n",
      "   - Disruption of business practices, diversion of resources, and structural or behavioral remedies\n",
      "\n",
      "3. Risks related to data, security, platform integrity, and intellectual property, such as:\n",
      "   - Security breaches or improper access to or disclosure of data or user data\n",
      "   - Cyber-attacks or other hacking and phishing attacks on systems\n",
      "   - Failure to prevent or mitigate security threats\n",
      "   - Loss of intellectual property or trade secrets\n",
      "\n",
      "4. Risks related to international operations, such as:\n",
      "   - Challenges in deploying products globally\n",
      "   - Complexity of international regulations and laws\n",
      "   - Risks related to outsourcing operational functions to third parties\n",
      "   - Exposure to political, social, or economic instability\n",
      "\n",
      "5. Other risks, such as:\n",
      "   - Volatility in the size of the user base and user engagement\n",
      "   - Delays in product development or releases\n",
      "   - Global financial market volatility and disruption\n",
      "   - Illnesses to key employees or a significant portion of the workforce\n",
      "   - Increased volatility and uncertainty in financial projections.\n"
     ]
    }
   ],
   "source": [
    "output = rag(query=query, retrieved_documents=retrieved_documents3)\n",
    "\n",
    "print(output)"
   ]
  },
  {
   "cell_type": "markdown",
   "id": "b4ab9641",
   "metadata": {},
   "source": [
    "## Summary\n",
    "\n",
    "In this video, I explained how to improve RAG app performance using **Hypothetical Document Embeddings (HyDE)** technique. Please feel free to let me know your views."
   ]
  },
  {
   "cell_type": "code",
   "execution_count": null,
   "id": "3ac3a9b5",
   "metadata": {},
   "outputs": [],
   "source": []
  }
 ],
 "metadata": {
  "kernelspec": {
   "display_name": "Python 3 (ipykernel)",
   "language": "python",
   "name": "python3"
  },
  "language_info": {
   "codemirror_mode": {
    "name": "ipython",
    "version": 3
   },
   "file_extension": ".py",
   "mimetype": "text/x-python",
   "name": "python",
   "nbconvert_exporter": "python",
   "pygments_lexer": "ipython3",
   "version": "3.10.9"
  }
 },
 "nbformat": 4,
 "nbformat_minor": 5
}
